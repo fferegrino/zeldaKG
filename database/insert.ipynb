{
 "cells": [
  {
   "cell_type": "code",
   "execution_count": null,
   "metadata": {},
   "outputs": [],
   "source": [
    "from neo4j.v1 import GraphDatabase\n",
    "import pandas as pd\n",
    "import json\n",
    "\n",
    "driver = GraphDatabase.driver(\"bolt://localhost:7687\", auth=(\"neo4j\", \"zelda1\"))"
   ]
  },
  {
   "cell_type": "code",
   "execution_count": null,
   "metadata": {},
   "outputs": [],
   "source": [
    "def escape(string):\n",
    "    return json.dumps(string)[1:-1]"
   ]
  },
  {
   "cell_type": "markdown",
   "metadata": {},
   "source": [
    "## Entities"
   ]
  },
  {
   "cell_type": "code",
   "execution_count": null,
   "metadata": {},
   "outputs": [],
   "source": [
    "entities = pd.read_csv(\"../relation_extraction/info/entities.csv\", index_col=0)\n",
    "entities.head(2)"
   ]
  },
  {
   "cell_type": "code",
   "execution_count": null,
   "metadata": {},
   "outputs": [],
   "source": [
    "create_template = \"CREATE (e:Entity{name:\\\"%s\\\"})\"\n",
    "with driver.session() as session:\n",
    "    for i, row in entities.iterrows():\n",
    "        name = escape(row['name'])\n",
    "        insert_stmt = create_template % (name) \n",
    "        result = session.run(insert_stmt)\n",
    "    session.run(\"CREATE INDEX ON :Entity(name)\")"
   ]
  },
  {
   "cell_type": "markdown",
   "metadata": {},
   "source": [
    "## Resources"
   ]
  },
  {
   "cell_type": "code",
   "execution_count": null,
   "metadata": {},
   "outputs": [],
   "source": [
    "resources = pd.read_csv(\"../relation_extraction/info/urls.csv\", index_col=0)\n",
    "resources.head(2)"
   ]
  },
  {
   "cell_type": "code",
   "execution_count": null,
   "metadata": {},
   "outputs": [],
   "source": [
    "create_template = \"CREATE (e:Resource{uri:\\\"%s\\\"})\"\n",
    "with driver.session() as session:\n",
    "    for i, row in resources.iterrows():\n",
    "        url = row['url']\n",
    "        insert_stmt = create_template % (url) \n",
    "        result = session.run(insert_stmt)\n",
    "    session.run(\"CREATE INDEX ON :Resource(uri)\")"
   ]
  },
  {
   "cell_type": "markdown",
   "metadata": {},
   "source": [
    "# `Represents` creation"
   ]
  },
  {
   "cell_type": "code",
   "execution_count": null,
   "metadata": {},
   "outputs": [],
   "source": [
    "wikia_rels = pd.read_csv(\"../relation_extraction/info/entities.wikia.csv\", index_col=0)\n",
    "gamepedia_rels = pd.read_csv(\"../relation_extraction/info/entities.gamepedia.csv\", index_col=0)"
   ]
  },
  {
   "cell_type": "code",
   "execution_count": null,
   "metadata": {},
   "outputs": [],
   "source": [
    "relationship_template = \"\"\"MATCH (from:Resource{uri:\\\"%s\\\"}),(to:Entity{name:\\\"%s\\\"})\n",
    "MERGE (from)-[r:Represents]->(to)\n",
    "SET r.%s=true\"\"\"\n",
    "\n",
    "for site, rels in zip([\"wikia\",\"gamepedia\"],[ wikia_rels, gamepedia_rels]):\n",
    "    print(site)\n",
    "    with driver.session() as session:\n",
    "        for i, row in rels.iterrows():\n",
    "            if (i+1 )% 1500 == 0:\n",
    "                print(i)\n",
    "            try:\n",
    "                name = escape(row['name'])\n",
    "                relationship_stmt = relationship_template % (row['page'], name, site)\n",
    "                session.run(relationship_stmt)\n",
    "            except Exception as inst:\n",
    "                print(\"Error\", i)\n",
    "                print(inst)\n",
    "                break"
   ]
  },
  {
   "cell_type": "markdown",
   "metadata": {},
   "source": [
    "## Other relationships creation"
   ]
  },
  {
   "cell_type": "code",
   "execution_count": null,
   "metadata": {},
   "outputs": [],
   "source": [
    "hard_relationships = pd.read_csv(\"../relation_extraction/info/hard_relationships.csv\", index_col=0)\n",
    "hard_relationships.head(2)"
   ]
  },
  {
   "cell_type": "code",
   "execution_count": null,
   "metadata": {},
   "outputs": [],
   "source": [
    "relationship_template = \"\"\"MATCH (from:Resource{uri:\\\"%s\\\"}),(to:Resource{uri:\\\"%s\\\"})\n",
    "MERGE (from)-[r:%s{verb:\\\"%s\\\",preposition:\\\"%s\\\"}]->(to)\"\"\"\n",
    "\n",
    "with driver.session() as session:\n",
    "    for i, r in hard_relationships.iterrows():\n",
    "        one = r[\"url\"]\n",
    "        verb = r[\"relation1\"]\n",
    "        preposition = r[\"relation2\"]\n",
    "        relation = r[\"attribute\"]\n",
    "        two = r[\"related_url\"]\n",
    "        create_stmt = relationship_template % (one, two, relation, verb, preposition)\n",
    "        session.run(create_stmt)"
   ]
  },
  {
   "cell_type": "code",
   "execution_count": null,
   "metadata": {},
   "outputs": [],
   "source": []
  }
 ],
 "metadata": {
  "kernelspec": {
   "display_name": "Python 3",
   "language": "python",
   "name": "python3"
  },
  "language_info": {
   "codemirror_mode": {
    "name": "ipython",
    "version": 3
   },
   "file_extension": ".py",
   "mimetype": "text/x-python",
   "name": "python",
   "nbconvert_exporter": "python",
   "pygments_lexer": "ipython3",
   "version": "3.6.5"
  }
 },
 "nbformat": 4,
 "nbformat_minor": 2
}
