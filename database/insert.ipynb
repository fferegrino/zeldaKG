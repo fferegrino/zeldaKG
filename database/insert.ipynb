{
 "cells": [
  {
   "cell_type": "code",
   "execution_count": 11,
   "metadata": {},
   "outputs": [],
   "source": [
    "from neo4j.v1 import GraphDatabase\n",
    "\n",
    "driver = GraphDatabase.driver(\"bolt://localhost:7687\", auth=(\"neo4j\", \"one\"))"
   ]
  },
  {
   "cell_type": "code",
   "execution_count": 18,
   "metadata": {},
   "outputs": [],
   "source": [
    "import pandas as pd\n",
    "import json\n",
    "\n",
    "entities = pd.read_csv(\"../relation_extraction/basic/entities.csv\").set_index(\"id\")\n",
    "types = pd.read_csv(\"../relation_extraction/basic/types.csv\").set_index(\"id\")\n",
    "relationships = pd.read_csv(\"../relation_extraction/basic/relationships.csv\", index_col = 0)\n",
    "adv_relationships = pd.read_csv(\"../relation_extraction/basic/adv_relationships.csv\", index_col = 0)"
   ]
  },
  {
   "cell_type": "code",
   "execution_count": 19,
   "metadata": {},
   "outputs": [
    {
     "data": {
      "text/html": [
       "<div>\n",
       "<style scoped>\n",
       "    .dataframe tbody tr th:only-of-type {\n",
       "        vertical-align: middle;\n",
       "    }\n",
       "\n",
       "    .dataframe tbody tr th {\n",
       "        vertical-align: top;\n",
       "    }\n",
       "\n",
       "    .dataframe thead th {\n",
       "        text-align: right;\n",
       "    }\n",
       "</style>\n",
       "<table border=\"1\" class=\"dataframe\">\n",
       "  <thead>\n",
       "    <tr style=\"text-align: right;\">\n",
       "      <th></th>\n",
       "      <th>name</th>\n",
       "      <th>page</th>\n",
       "    </tr>\n",
       "    <tr>\n",
       "      <th>id</th>\n",
       "      <th></th>\n",
       "      <th></th>\n",
       "    </tr>\n",
       "  </thead>\n",
       "  <tbody>\n",
       "    <tr>\n",
       "      <th>1</th>\n",
       "      <td>1-up Doll</td>\n",
       "      <td>1-up_Doll.html</td>\n",
       "    </tr>\n",
       "    <tr>\n",
       "      <th>2</th>\n",
       "      <td>100th Ring</td>\n",
       "      <td>100th_Ring.html</td>\n",
       "    </tr>\n",
       "    <tr>\n",
       "      <th>3</th>\n",
       "      <td>15-second Game</td>\n",
       "      <td>15-second_Game.html</td>\n",
       "    </tr>\n",
       "    <tr>\n",
       "      <th>4</th>\n",
       "      <td>1986</td>\n",
       "      <td>1986.html</td>\n",
       "    </tr>\n",
       "    <tr>\n",
       "      <th>5</th>\n",
       "      <td>1987</td>\n",
       "      <td>1987.html</td>\n",
       "    </tr>\n",
       "  </tbody>\n",
       "</table>\n",
       "</div>"
      ],
      "text/plain": [
       "              name                 page\n",
       "id                                     \n",
       "1        1-up Doll       1-up_Doll.html\n",
       "2       100th Ring      100th_Ring.html\n",
       "3   15-second Game  15-second_Game.html\n",
       "4             1986            1986.html\n",
       "5             1987            1987.html"
      ]
     },
     "execution_count": 19,
     "metadata": {},
     "output_type": "execute_result"
    }
   ],
   "source": [
    "entities.head()"
   ]
  },
  {
   "cell_type": "code",
   "execution_count": 20,
   "metadata": {},
   "outputs": [
    {
     "data": {
      "text/html": [
       "<div>\n",
       "<style scoped>\n",
       "    .dataframe tbody tr th:only-of-type {\n",
       "        vertical-align: middle;\n",
       "    }\n",
       "\n",
       "    .dataframe tbody tr th {\n",
       "        vertical-align: top;\n",
       "    }\n",
       "\n",
       "    .dataframe thead th {\n",
       "        text-align: right;\n",
       "    }\n",
       "</style>\n",
       "<table border=\"1\" class=\"dataframe\">\n",
       "  <thead>\n",
       "    <tr style=\"text-align: right;\">\n",
       "      <th></th>\n",
       "      <th>from</th>\n",
       "      <th>relationship</th>\n",
       "      <th>to</th>\n",
       "    </tr>\n",
       "  </thead>\n",
       "  <tbody>\n",
       "    <tr>\n",
       "      <th>0</th>\n",
       "      <td>1</td>\n",
       "      <td>FIRST_APPEARANCE</td>\n",
       "      <td>8636</td>\n",
       "    </tr>\n",
       "    <tr>\n",
       "      <th>1</th>\n",
       "      <td>1</td>\n",
       "      <td>FIRST_APPEARANCE</td>\n",
       "      <td>6</td>\n",
       "    </tr>\n",
       "    <tr>\n",
       "      <th>2</th>\n",
       "      <td>1</td>\n",
       "      <td>FOUND</td>\n",
       "      <td>3766</td>\n",
       "    </tr>\n",
       "    <tr>\n",
       "      <th>3</th>\n",
       "      <td>1</td>\n",
       "      <td>USE</td>\n",
       "      <td>4550</td>\n",
       "    </tr>\n",
       "    <tr>\n",
       "      <th>4</th>\n",
       "      <td>2</td>\n",
       "      <td>FIRST_APPEARANCE</td>\n",
       "      <td>7747</td>\n",
       "    </tr>\n",
       "  </tbody>\n",
       "</table>\n",
       "</div>"
      ],
      "text/plain": [
       "   from      relationship    to\n",
       "0     1  FIRST_APPEARANCE  8636\n",
       "1     1  FIRST_APPEARANCE     6\n",
       "2     1             FOUND  3766\n",
       "3     1               USE  4550\n",
       "4     2  FIRST_APPEARANCE  7747"
      ]
     },
     "execution_count": 20,
     "metadata": {},
     "output_type": "execute_result"
    }
   ],
   "source": [
    "relationships.head()"
   ]
  },
  {
   "cell_type": "code",
   "execution_count": 21,
   "metadata": {},
   "outputs": [
    {
     "data": {
      "text/html": [
       "<div>\n",
       "<style scoped>\n",
       "    .dataframe tbody tr th:only-of-type {\n",
       "        vertical-align: middle;\n",
       "    }\n",
       "\n",
       "    .dataframe tbody tr th {\n",
       "        vertical-align: top;\n",
       "    }\n",
       "\n",
       "    .dataframe thead th {\n",
       "        text-align: right;\n",
       "    }\n",
       "</style>\n",
       "<table border=\"1\" class=\"dataframe\">\n",
       "  <thead>\n",
       "    <tr style=\"text-align: right;\">\n",
       "      <th></th>\n",
       "      <th>source</th>\n",
       "      <th>source_str</th>\n",
       "      <th>relation</th>\n",
       "      <th>name</th>\n",
       "      <th>dst_str</th>\n",
       "      <th>dst</th>\n",
       "    </tr>\n",
       "  </thead>\n",
       "  <tbody>\n",
       "    <tr>\n",
       "      <th>0</th>\n",
       "      <td>1</td>\n",
       "      <td>1-up_Doll.html</td>\n",
       "      <td>item_from</td>\n",
       "      <td>Zelda II</td>\n",
       "      <td>NaN</td>\n",
       "      <td>NaN</td>\n",
       "    </tr>\n",
       "    <tr>\n",
       "      <th>1</th>\n",
       "      <td>1</td>\n",
       "      <td>1-up_Doll.html</td>\n",
       "      <td>live_in</td>\n",
       "      <td>which</td>\n",
       "      <td>NaN</td>\n",
       "      <td>NaN</td>\n",
       "    </tr>\n",
       "    <tr>\n",
       "      <th>2</th>\n",
       "      <td>2</td>\n",
       "      <td>100th_Ring.html</td>\n",
       "      <td>obtain_from</td>\n",
       "      <td>Vasu</td>\n",
       "      <td>Vasu.html</td>\n",
       "      <td>8270.0</td>\n",
       "    </tr>\n",
       "    <tr>\n",
       "      <th>3</th>\n",
       "      <td>2</td>\n",
       "      <td>100th_Ring.html</td>\n",
       "      <td>obtain_by</td>\n",
       "      <td>end</td>\n",
       "      <td>NaN</td>\n",
       "      <td>NaN</td>\n",
       "    </tr>\n",
       "    <tr>\n",
       "      <th>4</th>\n",
       "      <td>3</td>\n",
       "      <td>15-second_Game.html</td>\n",
       "      <td>locat_from</td>\n",
       "      <td>The Legend of Zelda</td>\n",
       "      <td>NaN</td>\n",
       "      <td>NaN</td>\n",
       "    </tr>\n",
       "  </tbody>\n",
       "</table>\n",
       "</div>"
      ],
      "text/plain": [
       "   source           source_str     relation                 name    dst_str  \\\n",
       "0       1       1-up_Doll.html    item_from             Zelda II        NaN   \n",
       "1       1       1-up_Doll.html      live_in                which        NaN   \n",
       "2       2      100th_Ring.html  obtain_from                 Vasu  Vasu.html   \n",
       "3       2      100th_Ring.html    obtain_by                  end        NaN   \n",
       "4       3  15-second_Game.html   locat_from  The Legend of Zelda        NaN   \n",
       "\n",
       "      dst  \n",
       "0     NaN  \n",
       "1     NaN  \n",
       "2  8270.0  \n",
       "3     NaN  \n",
       "4     NaN  "
      ]
     },
     "execution_count": 21,
     "metadata": {},
     "output_type": "execute_result"
    }
   ],
   "source": [
    "adv_relationships.head()"
   ]
  },
  {
   "cell_type": "code",
   "execution_count": 22,
   "metadata": {},
   "outputs": [
    {
     "data": {
      "text/html": [
       "<div>\n",
       "<style scoped>\n",
       "    .dataframe tbody tr th:only-of-type {\n",
       "        vertical-align: middle;\n",
       "    }\n",
       "\n",
       "    .dataframe tbody tr th {\n",
       "        vertical-align: top;\n",
       "    }\n",
       "\n",
       "    .dataframe thead th {\n",
       "        text-align: right;\n",
       "    }\n",
       "</style>\n",
       "<table border=\"1\" class=\"dataframe\">\n",
       "  <thead>\n",
       "    <tr style=\"text-align: right;\">\n",
       "      <th></th>\n",
       "      <th>page</th>\n",
       "      <th>type</th>\n",
       "    </tr>\n",
       "    <tr>\n",
       "      <th>id</th>\n",
       "      <th></th>\n",
       "      <th></th>\n",
       "    </tr>\n",
       "  </thead>\n",
       "  <tbody>\n",
       "    <tr>\n",
       "      <th>1</th>\n",
       "      <td>1-up_Doll.html</td>\n",
       "      <td>CHARACTER</td>\n",
       "    </tr>\n",
       "    <tr>\n",
       "      <th>1</th>\n",
       "      <td>1-up_Doll.html</td>\n",
       "      <td>ITEM</td>\n",
       "    </tr>\n",
       "    <tr>\n",
       "      <th>2</th>\n",
       "      <td>100th_Ring.html</td>\n",
       "      <td>ITEM</td>\n",
       "    </tr>\n",
       "    <tr>\n",
       "      <th>3</th>\n",
       "      <td>15-second_Game.html</td>\n",
       "      <td>LOCATION</td>\n",
       "    </tr>\n",
       "    <tr>\n",
       "      <th>36</th>\n",
       "      <td>2nd_Potion.html</td>\n",
       "      <td>ITEM</td>\n",
       "    </tr>\n",
       "  </tbody>\n",
       "</table>\n",
       "</div>"
      ],
      "text/plain": [
       "                   page       type\n",
       "id                                \n",
       "1        1-up_Doll.html  CHARACTER\n",
       "1        1-up_Doll.html       ITEM\n",
       "2       100th_Ring.html       ITEM\n",
       "3   15-second_Game.html   LOCATION\n",
       "36      2nd_Potion.html       ITEM"
      ]
     },
     "execution_count": 22,
     "metadata": {},
     "output_type": "execute_result"
    }
   ],
   "source": [
    "types.head()"
   ]
  },
  {
   "cell_type": "code",
   "execution_count": 23,
   "metadata": {},
   "outputs": [],
   "source": [
    "grouped_types = types.groupby(types.index)[\"type\"].apply(set).to_frame()"
   ]
  },
  {
   "cell_type": "code",
   "execution_count": 24,
   "metadata": {},
   "outputs": [
    {
     "data": {
      "text/html": [
       "<div>\n",
       "<style scoped>\n",
       "    .dataframe tbody tr th:only-of-type {\n",
       "        vertical-align: middle;\n",
       "    }\n",
       "\n",
       "    .dataframe tbody tr th {\n",
       "        vertical-align: top;\n",
       "    }\n",
       "\n",
       "    .dataframe thead th {\n",
       "        text-align: right;\n",
       "    }\n",
       "</style>\n",
       "<table border=\"1\" class=\"dataframe\">\n",
       "  <thead>\n",
       "    <tr style=\"text-align: right;\">\n",
       "      <th></th>\n",
       "      <th>name</th>\n",
       "      <th>page</th>\n",
       "      <th>type</th>\n",
       "    </tr>\n",
       "    <tr>\n",
       "      <th>id</th>\n",
       "      <th></th>\n",
       "      <th></th>\n",
       "      <th></th>\n",
       "    </tr>\n",
       "  </thead>\n",
       "  <tbody>\n",
       "    <tr>\n",
       "      <th>8709</th>\n",
       "      <td>Zunari</td>\n",
       "      <td>Zunari.html</td>\n",
       "      <td>{CHARACTER}</td>\n",
       "    </tr>\n",
       "    <tr>\n",
       "      <th>8710</th>\n",
       "      <td>Zuta</td>\n",
       "      <td>Zuta.html</td>\n",
       "      <td>{LOCATION, CHARACTER}</td>\n",
       "    </tr>\n",
       "    <tr>\n",
       "      <th>8711</th>\n",
       "      <td>Zyle</td>\n",
       "      <td>Zyle.html</td>\n",
       "      <td>{CHARACTER}</td>\n",
       "    </tr>\n",
       "    <tr>\n",
       "      <th>8712</th>\n",
       "      <td>?</td>\n",
       "      <td>_.html</td>\n",
       "      <td>NaN</td>\n",
       "    </tr>\n",
       "    <tr>\n",
       "      <th>8713</th>\n",
       "      <td>???</td>\n",
       "      <td>___.html</td>\n",
       "      <td>{LOCATION, CHARACTER, ITEM}</td>\n",
       "    </tr>\n",
       "  </tbody>\n",
       "</table>\n",
       "</div>"
      ],
      "text/plain": [
       "        name         page                         type\n",
       "id                                                    \n",
       "8709  Zunari  Zunari.html                  {CHARACTER}\n",
       "8710    Zuta    Zuta.html        {LOCATION, CHARACTER}\n",
       "8711    Zyle    Zyle.html                  {CHARACTER}\n",
       "8712       ?       _.html                          NaN\n",
       "8713     ???     ___.html  {LOCATION, CHARACTER, ITEM}"
      ]
     },
     "execution_count": 24,
     "metadata": {},
     "output_type": "execute_result"
    }
   ],
   "source": [
    "import numpy as np\n",
    "joint = pd.merge(entities, grouped_types, left_index=True, right_index=True, how='outer')\n",
    "joint.tail()"
   ]
  },
  {
   "cell_type": "code",
   "execution_count": 25,
   "metadata": {},
   "outputs": [
    {
     "name": "stdout",
     "output_type": "stream",
     "text": [
      "<class 'pandas.core.frame.DataFrame'>\n",
      "Int64Index: 8713 entries, 1 to 8713\n",
      "Data columns (total 3 columns):\n",
      "name    8713 non-null object\n",
      "page    8713 non-null object\n",
      "type    6348 non-null object\n",
      "dtypes: object(3)\n",
      "memory usage: 272.3+ KB\n"
     ]
    }
   ],
   "source": [
    "joint.info()"
   ]
  },
  {
   "cell_type": "code",
   "execution_count": 28,
   "metadata": {},
   "outputs": [],
   "source": [
    "def escape(string):\n",
    "    return json.dumps(string)[1:-1]"
   ]
  },
  {
   "cell_type": "code",
   "execution_count": 29,
   "metadata": {},
   "outputs": [
    {
     "name": "stdout",
     "output_type": "stream",
     "text": [
      "???\n",
      "???\n"
     ]
    },
    {
     "data": {
      "text/plain": [
       "'LOCATION:CHARACTER:ITEM'"
      ]
     },
     "execution_count": 29,
     "metadata": {},
     "output_type": "execute_result"
    }
   ],
   "source": [
    "print(joint.loc[8713]['name'])\n",
    "print(escape(joint.loc[8713]['name']))\n",
    "\":\".join(joint.loc[8713][\"type\"])"
   ]
  },
  {
   "cell_type": "markdown",
   "metadata": {},
   "source": [
    "# Node creation"
   ]
  },
  {
   "cell_type": "code",
   "execution_count": null,
   "metadata": {},
   "outputs": [],
   "source": [
    "create_template = \"CREATE (a:%s {id:%d, name:\\\"%s\\\", page:\\\"%s\\\"})\"\n",
    "with driver.session() as session:\n",
    "    for i, row in joint.iterrows():\n",
    "        type_ = 'OBJECT' if pd.isnull(row['type']) else \"OBJECT:\"+\":\".join(row['type'])\n",
    "        id_ = row.name\n",
    "        name = escape(row['name'])\n",
    "        page = row['page']\n",
    "        insert_stmt = create_template % (type_, id_, name, page) \n",
    "        \n",
    "        result = session.run(insert_stmt)\n",
    "    session.run(\"CREATE INDEX ON :OBJECT(id)\")"
   ]
  },
  {
   "cell_type": "markdown",
   "metadata": {},
   "source": [
    "# Relationship creation"
   ]
  },
  {
   "cell_type": "code",
   "execution_count": null,
   "metadata": {},
   "outputs": [],
   "source": [
    "relationship_template = \"\"\"MATCH (from:OBJECT{id:%d}),(to:OBJECT{id:%d})\n",
    "CREATE (from)-[:%s]->(to)\"\"\"\n",
    "\n",
    "with driver.session() as session:\n",
    "    for i, row in relationships.iterrows():\n",
    "        if i % 500 == 0:\n",
    "            print(i)\n",
    "        try:\n",
    "            relationship_stmt = relationship_template % (row[\"from\"], row[\"to\"], row[\"relationship\"])\n",
    "            session.run(relationship_stmt)\n",
    "        except Exception as inst:\n",
    "            print(\"Error\", i)\n",
    "            print(inst)\n",
    "            break"
   ]
  },
  {
   "cell_type": "markdown",
   "metadata": {},
   "source": [
    "# Known as relationship insertion   "
   ]
  },
  {
   "cell_type": "code",
   "execution_count": 8,
   "metadata": {},
   "outputs": [],
   "source": [
    "import json\n",
    "\n",
    "known_as:dict = None \n",
    "    \n",
    "with open(\"../link_analysis/known_as.json\", \"r\") as r:\n",
    "    known_as = json.load(r)"
   ]
  },
  {
   "cell_type": "code",
   "execution_count": 13,
   "metadata": {},
   "outputs": [],
   "source": [
    "aliases = set()\n",
    "for page in known_as:\n",
    "    aliases.update(known_as[page])"
   ]
  },
  {
   "cell_type": "code",
   "execution_count": 53,
   "metadata": {},
   "outputs": [],
   "source": [
    "create_template = \"CREATE (s:ALIAS {value:\\\"%s\\\"})\"\n",
    "with driver.session() as session:\n",
    "    for alias in aliases:\n",
    "        insert_stmt = create_template % (escape(alias)) \n",
    "        result = session.run(insert_stmt)\n",
    "    session.run(\"CREATE INDEX ON :ALIAS(value)\")"
   ]
  },
  {
   "cell_type": "code",
   "execution_count": 55,
   "metadata": {},
   "outputs": [
    {
     "name": "stdout",
     "output_type": "stream",
     "text": [
      "0\n",
      "500\n",
      "Error 764\n",
      "index 0 is out of bounds for axis 0 with size 0\n",
      "1000\n",
      "1500\n",
      "Error 1908\n",
      "index 0 is out of bounds for axis 0 with size 0\n",
      "2000\n",
      "2500\n",
      "Error 2971\n",
      "index 0 is out of bounds for axis 0 with size 0\n",
      "3000\n",
      "3500\n",
      "Error 3766\n",
      "index 0 is out of bounds for axis 0 with size 0\n",
      "4000\n",
      "4500\n",
      "Error 4623\n",
      "index 0 is out of bounds for axis 0 with size 0\n",
      "5000\n",
      "Error 5045\n",
      "index 0 is out of bounds for axis 0 with size 0\n",
      "5500\n",
      "Error 5616\n",
      "index 0 is out of bounds for axis 0 with size 0\n",
      "Error 5830\n",
      "index 0 is out of bounds for axis 0 with size 0\n",
      "6000\n",
      "6500\n",
      "Error 6613\n",
      "index 0 is out of bounds for axis 0 with size 0\n",
      "7000\n",
      "7500\n",
      "Error 7710\n",
      "index 0 is out of bounds for axis 0 with size 0\n",
      "8000\n",
      "8500\n",
      "9000\n",
      "Error 9403\n",
      "index 0 is out of bounds for axis 0 with size 0\n",
      "9500\n",
      "10000\n"
     ]
    }
   ],
   "source": [
    "relationship_template = \"\"\"MATCH (alias:ALIAS{value:\\\"%s\\\"}),(object:OBJECT{id:%d})\n",
    "CREATE (object)-[:KNOWN_AS]->(alias)\"\"\"\n",
    "\n",
    "def get_id_from_page(page):\n",
    "    return entities[entities['page'] == page].index[0]\n",
    "\n",
    "\n",
    "\n",
    "ii = 0\n",
    "with driver.session() as session:\n",
    "    for page in known_as:\n",
    "        for alias in known_as[page]:\n",
    "            if ii % 500 == 0:\n",
    "                print(ii)\n",
    "            try:\n",
    "                relationship_stmt = relationship_template % (escape(alias), get_id_from_page(page))\n",
    "                session.run(relationship_stmt)\n",
    "            except Exception as inst:\n",
    "                print(\"Error\", ii)\n",
    "                print(inst)\n",
    "            ii += 1"
   ]
  },
  {
   "cell_type": "code",
   "execution_count": null,
   "metadata": {},
   "outputs": [],
   "source": []
  }
 ],
 "metadata": {
  "kernelspec": {
   "display_name": "Python 3",
   "language": "python",
   "name": "python3"
  },
  "language_info": {
   "codemirror_mode": {
    "name": "ipython",
    "version": 3
   },
   "file_extension": ".py",
   "mimetype": "text/x-python",
   "name": "python",
   "nbconvert_exporter": "python",
   "pygments_lexer": "ipython3",
   "version": "3.6.5"
  }
 },
 "nbformat": 4,
 "nbformat_minor": 2
}
