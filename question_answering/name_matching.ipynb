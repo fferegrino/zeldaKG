{
 "cells": [
  {
   "cell_type": "code",
   "execution_count": 5,
   "metadata": {},
   "outputs": [],
   "source": [
    "from neo4j.v1 import GraphDatabase\n",
    "import pandas as pd\n",
    "import json\n",
    "import numpy as np\n",
    "\n",
    "driver = GraphDatabase.driver(\"bolt://localhost:7687\", auth=(\"neo4j\", \"zelda1\"))"
   ]
  },
  {
   "cell_type": "code",
   "execution_count": 6,
   "metadata": {},
   "outputs": [],
   "source": [
    "def get_names(tx):\n",
    "    trans = tx.run(\"MATCH (n:Entity) RETURN n.name\")\n",
    "    names = []\n",
    "    for record in trans:\n",
    "        names.append(record[\"n.name\"])\n",
    "    return names\n",
    "\n",
    "with driver.session() as session:\n",
    "    names = session.read_transaction(get_names)"
   ]
  },
  {
   "cell_type": "code",
   "execution_count": 7,
   "metadata": {},
   "outputs": [],
   "source": [
    "from sklearn.base import BaseEstimator, ClassifierMixin\n",
    "from sklearn.feature_extraction.text import TfidfVectorizer\n",
    "\n",
    "class TfidfClassifier(BaseEstimator, ClassifierMixin):  \n",
    "    \"\"\"An example of classifier\"\"\"\n",
    "\n",
    "    def __init__(self, ngrams=3):\n",
    "        \"\"\"\n",
    "        Called when initializing the classifier\n",
    "        \"\"\"\n",
    "        self.ngrams = ngrams\n",
    "        self.tfidf = TfidfVectorizer(analyzer=self.ngrams_analyzer)\n",
    "\n",
    "    def ngrams_analyzer(self, s):\n",
    "        s = s.lower()\n",
    "        ngrams = [s[r:r+self.ngrams] for r in range(len(s) + 1 - self.ngrams)]\n",
    "        return ngrams\n",
    "\n",
    "    def fit(self, X, y=None):\n",
    "        assert (type(self.ngrams) == int), \"ngrams parameter must be integer\"\n",
    "\n",
    "        self.names_ = np.array(X)\n",
    "        self.matrix_ = self.tfidf.fit_transform(X)\n",
    "\n",
    "        return self\n",
    "    \n",
    "    def get_similarity(self, X):\n",
    "        matrix_to_predict = self.tfidf.transform(X)\n",
    "        simlililarity = matrix_to_predict.dot(self.matrix_.T)\n",
    "        return simlililarity\n",
    "\n",
    "    def predict(self, X, y=None):\n",
    "        try:\n",
    "            getattr(self, \"matrix_\")\n",
    "        except AttributeError:\n",
    "            raise RuntimeError(\"You must train classifer before predicting data!\")\n",
    "        \n",
    "        similarity = self.get_similarity(X)\n",
    "        \n",
    "        # This should be improved\n",
    "        simil = np.asarray(np.argmax(similarity,axis=1)).flatten()\n",
    "        #simil_score = np.max(simlililarity, axis=1)\n",
    "        \n",
    "        return(self.names_[simil])\n",
    "\n",
    "    def score(self, X, y=None):\n",
    "        similarity = get_similarity(X)\n",
    "        return(sum(self.predict(X))) "
   ]
  },
  {
   "cell_type": "code",
   "execution_count": 8,
   "metadata": {},
   "outputs": [
    {
     "data": {
      "text/plain": [
       "TfidfClassifier(ngrams=3)"
      ]
     },
     "execution_count": 8,
     "metadata": {},
     "output_type": "execute_result"
    }
   ],
   "source": [
    "tfidf = TfidfClassifier(3)\n",
    "tfidf.fit(names)"
   ]
  },
  {
   "cell_type": "code",
   "execution_count": 15,
   "metadata": {},
   "outputs": [
    {
     "data": {
      "text/plain": [
       "array(['Dark Link', 'Ganon', 'Zora River',\n",
       "       'The Legend of Zelda: A Link to the Past'], dtype='<U80')"
      ]
     },
     "execution_count": 15,
     "metadata": {},
     "output_type": "execute_result"
    }
   ],
   "source": [
    "tfidf.predict([\"dark lin\",\"Gano n\", \"Zora riv\", \"zelda a link to the past\"])"
   ]
  },
  {
   "cell_type": "code",
   "execution_count": null,
   "metadata": {},
   "outputs": [],
   "source": [
    "question_doc = nlp(question)"
   ]
  }
 ],
 "metadata": {
  "kernelspec": {
   "display_name": "Python 3",
   "language": "python",
   "name": "python3"
  },
  "language_info": {
   "codemirror_mode": {
    "name": "ipython",
    "version": 3
   },
   "file_extension": ".py",
   "mimetype": "text/x-python",
   "name": "python",
   "nbconvert_exporter": "python",
   "pygments_lexer": "ipython3",
   "version": "3.6.5"
  }
 },
 "nbformat": 4,
 "nbformat_minor": 2
}
