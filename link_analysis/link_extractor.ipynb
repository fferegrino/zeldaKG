{
 "cells": [
  {
   "cell_type": "markdown",
   "metadata": {},
   "source": [
    "# Extract links between pages  \n",
    "\n",
    "Dividing them into three categories:\n",
    " - `external`: links to resources outside the wiki\n",
    " - `inlinks`: valid links between pages\n",
    " - `unknown`: links that need further research"
   ]
  },
  {
   "cell_type": "code",
   "execution_count": 1,
   "metadata": {},
   "outputs": [],
   "source": [
    "from glob import glob\n",
    "\n",
    "# Where are all those htmls?\n",
    "html_route = r\"C:\\Corpora\\zelda-wikia2-clean\\\\\"\n",
    "\n",
    "source_dir = html_route + \"*.html\" \n",
    "source_dir_template = html_route + \"%s\" \n",
    "\n",
    "files  = list(glob(source_dir))"
   ]
  },
  {
   "cell_type": "code",
   "execution_count": 3,
   "metadata": {
    "scrolled": true
   },
   "outputs": [
    {
     "name": "stdout",
     "output_type": "stream",
     "text": [
      "C:\\Corpora\\zelda-wikia2-clean\\index.html\n",
      "8715\n"
     ]
    }
   ],
   "source": [
    "from bs4 import BeautifulSoup\n",
    "import os\n",
    "\n",
    "from urllib.parse import urlparse\n",
    "from urllib.parse import unquote\n",
    "\n",
    "def clean_url(url):\n",
    "    parsed = urlparse(url)\n",
    "    path = unquote(parsed.path)\n",
    "    if path.startswith(\"../\"):\n",
    "        path = path[3:]\n",
    "    path = path.replace(\"/\", \"%2F\")\n",
    "    query = None if parsed.query == '' else parsed.query\n",
    "    fragment = None if parsed.fragment == '' else parsed.fragment\n",
    "    return (path, query, fragment)\n",
    "    \n",
    "pages = {}\n",
    "\n",
    "for file in files:\n",
    "    file_name = os.path.basename(file)\n",
    "    #print(file_name)\n",
    "    page:BeautifulSoup = None\n",
    "    with open(file, \"r\", encoding=\"utf8\") as r:\n",
    "        page = BeautifulSoup(r, \"lxml\")\n",
    "    wikiaMainContent = page.find('article', {'id':'WikiaMainContent'})\n",
    "    if file_name not in pages:\n",
    "        pages[file_name] = {}\n",
    "    if wikiaMainContent is None:\n",
    "        print(file)\n",
    "        continue\n",
    "    anchors = wikiaMainContent.findAll('a')\n",
    "    for anchor in anchors:\n",
    "        items = clean_url(anchor.get('href', ''))\n",
    "        anchor_text = anchor.text.strip()\n",
    "        file_url = items[0]\n",
    "        if \"external\" in file_url:\n",
    "            if \"external\" not in pages[file_name]:\n",
    "                pages[file_name][\"external\"] = []\n",
    "            external = {\n",
    "                'text':anchor_text,\n",
    "                'url':None if items[1] is None else items[1][5:]\n",
    "            }\n",
    "            if items[1]:\n",
    "                external['url'] = items[1][5:]\n",
    "            pages[file_name][\"external\"].append(external)\n",
    "        elif os.path.exists(source_dir_template % file_url):\n",
    "            if file_url not in pages:\n",
    "                pages[file_url] = {}\n",
    "            if \"inlinks\" not in pages[file_url]:\n",
    "                pages[file_url][\"inlinks\"] = []\n",
    "            inlink = {\n",
    "                'text': anchor_text,\n",
    "                'from': file_name\n",
    "            }\n",
    "            if items[2]:\n",
    "                inlink['fragment'] = items[2]\n",
    "            pages[file_url][\"inlinks\"].append(inlink)\n",
    "        else:\n",
    "            if \"unknown\" not in pages[file_name]:\n",
    "                pages[file_name][\"unknown\"] = []\n",
    "            unknown = {\n",
    "                'text':anchor_text, \n",
    "                'url':file_url\n",
    "            }\n",
    "            if items[2]:\n",
    "                unknown['fragment'] = items[2]\n",
    "            pages[file_name][\"unknown\"].append(unknown)\n",
    "        \n",
    "print(len(pages))"
   ]
  },
  {
   "cell_type": "code",
   "execution_count": null,
   "metadata": {},
   "outputs": [],
   "source": [
    "import json\n",
    "\n",
    "with open(\"network.json\", \"w\") as w:\n",
    "    json.dump(pages, w)"
   ]
  },
  {
   "cell_type": "code",
   "execution_count": 8,
   "metadata": {},
   "outputs": [
    {
     "name": "stdout",
     "output_type": "stream",
     "text": [
      "Creating network.zip\n",
      "Adding network.json\n"
     ]
    }
   ],
   "source": [
    "import zipfile\n",
    "\n",
    "print ('Creating network.zip')\n",
    "zf = zipfile.ZipFile('network.zip', mode='w')\n",
    "try:\n",
    "    print('Adding network.json')\n",
    "    zf.write('network.json', compress_type = zipfile.ZIP_DEFLATED)\n",
    "finally:\n",
    "    zf.close()"
   ]
  },
  {
   "cell_type": "code",
   "execution_count": null,
   "metadata": {},
   "outputs": [],
   "source": []
  }
 ],
 "metadata": {
  "kernelspec": {
   "display_name": "Python 3",
   "language": "python",
   "name": "python3"
  },
  "language_info": {
   "codemirror_mode": {
    "name": "ipython",
    "version": 3
   },
   "file_extension": ".py",
   "mimetype": "text/x-python",
   "name": "python",
   "nbconvert_exporter": "python",
   "pygments_lexer": "ipython3",
   "version": "3.6.5"
  }
 },
 "nbformat": 4,
 "nbformat_minor": 2
}
