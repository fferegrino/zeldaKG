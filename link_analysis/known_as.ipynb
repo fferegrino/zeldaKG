{
 "cells": [
  {
   "cell_type": "markdown",
   "metadata": {},
   "source": [
    "# Extract known as... from the inlinks "
   ]
  },
  {
   "cell_type": "code",
   "execution_count": 37,
   "metadata": {},
   "outputs": [
    {
     "name": "stdout",
     "output_type": "stream",
     "text": [
      "<class 'dict'>\n"
     ]
    }
   ],
   "source": [
    "import json\n",
    "import os\n",
    "import zipfile\n",
    "\n",
    "network = None\n",
    "\n",
    "def open_network():\n",
    "    with open(\"network.json\", \"r\") as r:\n",
    "        return json.load(r)\n",
    "    \n",
    "if os.path.exists(\"network.json\"):\n",
    "    network = open_network()\n",
    "    \n",
    "if os.path.exists(\"network.zip\"):\n",
    "    with zipfile.ZipFile('network.zip') as zip_file:\n",
    "        zip_file.extract('network.json')\n",
    "    network = open_network()\n",
    "        \n",
    "print(type(network))"
   ]
  },
  {
   "cell_type": "code",
   "execution_count": 29,
   "metadata": {},
   "outputs": [
    {
     "data": {
      "text/plain": [
       "'the main events of zelda ii: the adventure of link unfold in the land of hyrule. the following... list of locations in zelda ii: the adventure of link'"
      ]
     },
     "execution_count": 29,
     "metadata": {},
     "output_type": "execute_result"
    }
   ],
   "source": [
    "import re\n",
    "\n",
    "spac_s = re.compile(\"\\s+[\\,\\.\\?\\!]{1}\")\n",
    "spaces = re.compile(\"\\s+\")\n",
    "\n",
    "def clean_string(label):\n",
    "    \"\"\"\n",
    "    Canonicalize the relationship\n",
    "    \"\"\"\n",
    "    st = label.replace(\"“\", \"\")\n",
    "    st = re.sub(spac_s, '', st)\n",
    "    st = re.sub(spaces, ' ', st)\n",
    "    return st.strip().lower()\n",
    "\n",
    "clean_string(\"“\\n          \\n\\n           The main events of Zelda II: The Adventure of Link unfold in the land of Hyrule. The following...\\n          \\n\\n\\n          List of locations in Zelda II: The Adventure of Link\")"
   ]
  },
  {
   "cell_type": "code",
   "execution_count": 30,
   "metadata": {},
   "outputs": [],
   "source": [
    "inlinks = {key: value['inlinks'] for key, value in network.items() if \"inlinks\" in value}"
   ]
  },
  {
   "cell_type": "code",
   "execution_count": 31,
   "metadata": {
    "scrolled": false
   },
   "outputs": [],
   "source": [
    "from collections import Counter\n",
    "\n",
    "known_as_dict = {}\n",
    "for page in inlinks.keys():\n",
    "    names = set([clean_string(inlink['text']) for inlink in inlinks[page]])\n",
    "    known_as_dict[page] = list(names)"
   ]
  },
  {
   "cell_type": "code",
   "execution_count": 38,
   "metadata": {},
   "outputs": [],
   "source": [
    "with open(\"known_as.json\", \"w\") as w:\n",
    "    json.dump(known_as_dict, w)"
   ]
  },
  {
   "cell_type": "code",
   "execution_count": null,
   "metadata": {},
   "outputs": [],
   "source": []
  }
 ],
 "metadata": {
  "kernelspec": {
   "display_name": "Python 3",
   "language": "python",
   "name": "python3"
  },
  "language_info": {
   "codemirror_mode": {
    "name": "ipython",
    "version": 3
   },
   "file_extension": ".py",
   "mimetype": "text/x-python",
   "name": "python",
   "nbconvert_exporter": "python",
   "pygments_lexer": "ipython3",
   "version": "3.6.5"
  }
 },
 "nbformat": 4,
 "nbformat_minor": 2
}
