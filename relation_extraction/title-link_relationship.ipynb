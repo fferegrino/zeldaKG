{
 "cells": [
  {
   "cell_type": "markdown",
   "metadata": {},
   "source": [
    "# Title-Link relationship   \n",
    "\n",
    "This notebook is used to generate the mapping between a page title and its unique html page. \n",
    "\n",
    "Produces a couple of csv files: `info/entities.wikia.csv` and `info/entities.gamepedia.csv` that have the following structure:  \n",
    "\n",
    "| ID   | Name            | Page                 |\n",
    "| ---- |:---------------:| --------------------:|\n",
    "| 3    | Link            | Link.html            |\n",
    "| ...  | ...             | ...                  |\n",
    "| 9    | Hyrule Warriors | Hyrule_Warriors.html |"
   ]
  },
  {
   "cell_type": "code",
   "execution_count": null,
   "metadata": {},
   "outputs": [],
   "source": [
    "import os\n",
    "import pandas as pd\n",
    "from ie_conf import get_htmls_route\n",
    "from glob import glob\n",
    "from bs4 import BeautifulSoup"
   ]
  },
  {
   "cell_type": "code",
   "execution_count": null,
   "metadata": {},
   "outputs": [],
   "source": [
    "def get_wikia_page_title(file):\n",
    "    soup:BeautifulSoup = None\n",
    "    with open(file, \"r\", encoding=\"utf8\") as r:\n",
    "        soup = BeautifulSoup(r, \"lxml\")\n",
    "    wikiaMainContent = soup.find('article', {'id':'WikiaMainContent'})\n",
    "    if wikiaMainContent is None:\n",
    "        return None\n",
    "    title = wikiaMainContent.get('title',None)\n",
    "    if not wikiaMainContent or not title:\n",
    "        return None\n",
    "    return wikiaMainContent['title']\n",
    "\n",
    "def get_gamepedia_page_title(file):\n",
    "    soup:BeautifulSoup = None\n",
    "    with open(file, \"r\", encoding=\"utf8\") as r:\n",
    "        soup = BeautifulSoup(r, \"lxml\")\n",
    "    bodyContent = soup.find('div', {'id':'bodyContent'})\n",
    "    if bodyContent is None:\n",
    "        return None\n",
    "    title = bodyContent.get('title',None)\n",
    "    if not bodyContent or not title:\n",
    "        return None\n",
    "    return bodyContent['title']"
   ]
  },
  {
   "cell_type": "code",
   "execution_count": null,
   "metadata": {},
   "outputs": [],
   "source": [
    "sites = [\"wikia\", \"gamepedia\"]\n",
    "title_functions = [get_wikia_page_title, get_gamepedia_page_title]\n",
    "\n",
    "names = set()\n",
    "urls = set()\n",
    "\n",
    "for site, title_function in zip(sites, title_functions):\n",
    "    root = get_htmls_route(site)\n",
    "\n",
    "    all_files = sorted(list(glob(root + \"*.html\")))\n",
    "\n",
    "    i = 1\n",
    "    entities_lst = []\n",
    "    reverse = {}\n",
    "    for file in all_files:\n",
    "        node = os.path.basename(file)\n",
    "        title = title_function(file)\n",
    "        if title is None:\n",
    "            print(file)\n",
    "            continue\n",
    "\n",
    "        names.add(title)\n",
    "        urls.add(node)\n",
    "        \n",
    "        entities_lst.append([i, title, node])\n",
    "        reverse[node] = i\n",
    "\n",
    "        i += 1\n",
    "\n",
    "    entities_df = pd.DataFrame(entities_lst, columns=['id','name','page']).set_index('id')\n",
    "    entities_df.to_csv('info/entities.' + site +'.csv', encoding='utf8')\n",
    "    print(site, \"had\", len(entities_df), \"entities.\")"
   ]
  },
  {
   "cell_type": "markdown",
   "metadata": {},
   "source": [
    "## Get unique names and urls"
   ]
  },
  {
   "cell_type": "code",
   "execution_count": null,
   "metadata": {},
   "outputs": [],
   "source": [
    "unique_names = pd.DataFrame({'name': list(names)})\n",
    "unique_urls = pd.DataFrame({'url':list(urls)})\n",
    "\n",
    "unique_names.to_csv(\"info/entities.csv\")\n",
    "unique_urls.to_csv(\"info/urls.csv\")\n",
    "\n",
    "print(\"Unique names\", len(unique_names))\n",
    "print(\"Unique urls\", len(unique_urls))\n"
   ]
  },
  {
   "cell_type": "code",
   "execution_count": null,
   "metadata": {},
   "outputs": [],
   "source": []
  }
 ],
 "metadata": {
  "kernelspec": {
   "display_name": "Python 3",
   "language": "python",
   "name": "python3"
  },
  "language_info": {
   "codemirror_mode": {
    "name": "ipython",
    "version": 3
   },
   "file_extension": ".py",
   "mimetype": "text/x-python",
   "name": "python",
   "nbconvert_exporter": "python",
   "pygments_lexer": "ipython3",
   "version": "3.6.5"
  }
 },
 "nbformat": 4,
 "nbformat_minor": 2
}
