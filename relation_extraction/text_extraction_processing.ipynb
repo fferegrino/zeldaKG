{
 "cells": [
  {
   "cell_type": "code",
   "execution_count": null,
   "metadata": {},
   "outputs": [],
   "source": [
    "import json\n",
    "import pandas as pd\n",
    "\n",
    "from nltk.stem import PorterStemmer\n",
    "from extracted_entities import Relation, RelationDetails, ParsedParagraph\n",
    "\n",
    "with open(\"info/text_extraction.json\", \"r\") as r:\n",
    "    extracted_info = json.load(r)"
   ]
  },
  {
   "cell_type": "code",
   "execution_count": null,
   "metadata": {},
   "outputs": [],
   "source": [
    "from slugify import slugify\n",
    "\n",
    "def dumb_compare(str1_, str2_):\n",
    "    str1 = slugify(str1_)\n",
    "    str2 = slugify(str2_)\n",
    "    if not str1 or not str2: return False\n",
    "    if len(str2) < 3: return False\n",
    "    return str1 in str2 or str2 in str1"
   ]
  },
  {
   "cell_type": "code",
   "execution_count": null,
   "metadata": {},
   "outputs": [],
   "source": [
    "stemmer = PorterStemmer()\n",
    "\n",
    "rels = []\n",
    "sources = [\"wikia\", \"gamepedia\"]\n",
    "for entity in list(extracted_info.keys()):\n",
    "    for s in sources:\n",
    "        if s not in extracted_info[entity]: continue\n",
    "        paragraphs = extracted_info[entity][s][\"paragraphs\"]\n",
    "        if not paragraphs: continue\n",
    "        for p in paragraphs:\n",
    "            relations = p[\"relations\"]\n",
    "            if not relations: continue\n",
    "            current_relations = []\n",
    "            for rel in p[\"relations\"]:\n",
    "                attribute = stemmer.stem(rel[\"attribute\"])\n",
    "                related_entity = None\n",
    "                related_relationship = None\n",
    "                related_entity_link = None\n",
    "                \n",
    "                # Find hard links to entities:\n",
    "                details = p[\"details\"]\n",
    "                links = p[\"links\"]\n",
    "                if links and details:\n",
    "                    for det in p[\"details\"]:\n",
    "                        detail_attribute = stemmer.stem(det[\"attribute\"])\n",
    "                        if detail_attribute == attribute:\n",
    "                            related_entity = det[\"subject\"]\n",
    "                            related_relationship = det[\"relation\"]\n",
    "                            for l in links:\n",
    "                                if dumb_compare(related_entity, l[\"href\"]) \\\n",
    "                                    or dumb_compare(related_entity, l[\"text\"]):\n",
    "                                    related_entity_link = l[\"href\"]\n",
    "                \n",
    "                rels.append([entity, \n",
    "                             s,\n",
    "                             extracted_info[entity][s][\"name\"],  \n",
    "                             rel[\"subject\"], \n",
    "                             rel[\"relation\"], \n",
    "                             stemmer.stem(rel[\"attribute\"]),\n",
    "                             related_relationship,\n",
    "                             related_entity,\n",
    "                             related_entity_link\n",
    "                            ])\n",
    "\n",
    "relations = pd.DataFrame(rels, columns=[\"url\", \"source\",\"name\", \"subject\", \n",
    "                                        \"relation\", \"attribute\",\n",
    "                                        \"related_relationship\",\"related_subject\",\"related_subject_url\"]).set_index(\"url\")\n",
    "relations.info()"
   ]
  },
  {
   "cell_type": "code",
   "execution_count": null,
   "metadata": {},
   "outputs": [],
   "source": [
    "def mentions_itself(r):\n",
    "    return dumb_compare(r[\"name\"], r[\"subject\"])\n",
    "\n",
    "relations[\"mention\"] = relations.apply(mentions_itself, axis=1)\n",
    "\n",
    "mentions_itself = relations[relations.mention]\n",
    "print(\"Self referencing relationships found\", len(mentions_itself)) "
   ]
  },
  {
   "cell_type": "code",
   "execution_count": null,
   "metadata": {},
   "outputs": [],
   "source": [
    "hard_relations = mentions_itself[(pd.notna(mentions_itself.related_subject_url))]\n",
    "print(\"\\\"Hard relationships found\\\"\", len(hard_relations))\n",
    "hard_relations.sample(6)"
   ]
  },
  {
   "cell_type": "code",
   "execution_count": null,
   "metadata": {},
   "outputs": [],
   "source": [
    "counts = hard_relations.attribute.value_counts()\n",
    "to_consider = counts[counts > 6]\n",
    "to_consider"
   ]
  },
  {
   "cell_type": "markdown",
   "metadata": {},
   "source": [
    "### Categories for \"hard relationships\""
   ]
  },
  {
   "cell_type": "code",
   "execution_count": null,
   "metadata": {},
   "outputs": [],
   "source": [
    "category_mapping = {    \n",
    "    \"charact\":\"Character\",\n",
    "    \"enemi\":\"Enemy\",    \n",
    "    \"boss\":\"Boss\",\n",
    "    \"item\":\"Item\",\n",
    "    \"locat\":\"Location\",\n",
    "    \"object\":\"Object\",\n",
    "    \"dungeon\":\"Dungeon\",\n",
    "    \"quest\":\"Quest\",\n",
    "    \"group\":\"Group\",\n",
    "    \"song\":\"Song\",\n",
    "    \"shrine\":\"Shrine\",\n",
    "    \"mask\":\"Mask\",\n",
    "    \"shop\":\"Shop\",\n",
    "    \"sword\": \"Sword\",\n",
    "    \"weapon\":\"Weapon\",\n",
    "    \"stage\":\"Stage\",\n",
    "    \"shield\":\"Shield\"\n",
    "}"
   ]
  },
  {
   "cell_type": "code",
   "execution_count": null,
   "metadata": {},
   "outputs": [],
   "source": [
    "true_relations = []\n",
    "for i,row in hard_relations.iterrows():\n",
    "    if row[\"attribute\"] in category_mapping:\n",
    "        true_relations.append([row.name, \n",
    "                               row[\"relation\"],\n",
    "                               category_mapping[row[\"attribute\"]],\n",
    "                               row[\"related_relationship\"],\n",
    "                               row[\"related_subject_url\"]\n",
    "                              ])\n",
    "true_relations = pd.DataFrame(true_relations, columns =[\"url\",\"relation1\",\"attribute\", \"relation2\",\"related_url\"])\n",
    "print(\"Hard relationships processed\", len(true_relations))\n",
    "true_relations.to_csv(\"info/hard_relationships.csv\")\n",
    "true_relations.head()"
   ]
  },
  {
   "cell_type": "markdown",
   "metadata": {},
   "source": [
    "```\n",
    "LOAD CSV WITH HEADERS FROM 'file:///hard_relationships.csv' as line\n",
    "MATCH (p1:Page{url:line.url})\n",
    "MATCH (p2:Page{url:line.related_url})\n",
    "MERGE (p1)-[:IsA{attribute:line.attribute, relation:line.relation2}]->(p2)\n",
    "```"
   ]
  },
  {
   "cell_type": "code",
   "execution_count": null,
   "metadata": {},
   "outputs": [],
   "source": [
    "true_relations.relation2.value_counts()\n",
    "true_relations[true_relations.relation2==\"by\"]"
   ]
  },
  {
   "cell_type": "markdown",
   "metadata": {},
   "source": [
    "## Processing for soft relationships"
   ]
  },
  {
   "cell_type": "markdown",
   "metadata": {},
   "source": [
    "#### I have no idea of what I'm doing\n",
    "(generate nodes for \"soft\" relationships)"
   ]
  },
  {
   "cell_type": "code",
   "execution_count": null,
   "metadata": {},
   "outputs": [],
   "source": [
    "node_template = \"(:%s)\"\n",
    "\"CREATE \" + (', '.join([node_template % label for label in category_mapping.values()]))"
   ]
  },
  {
   "cell_type": "markdown",
   "metadata": {},
   "source": [
    "```\n",
    "CREATE (:Character), (:Enemy), (:Boss), (:Item), (:Location), (:Object), (:Dungeon), (:Quest), (:Group), (:Song), (:Shrine), (:Mask), (:Shop)\n",
    "```"
   ]
  },
  {
   "cell_type": "code",
   "execution_count": null,
   "metadata": {},
   "outputs": [],
   "source": []
  }
 ],
 "metadata": {
  "kernelspec": {
   "display_name": "Python 3",
   "language": "python",
   "name": "python3"
  },
  "language_info": {
   "codemirror_mode": {
    "name": "ipython",
    "version": 3
   },
   "file_extension": ".py",
   "mimetype": "text/x-python",
   "name": "python",
   "nbconvert_exporter": "python",
   "pygments_lexer": "ipython3",
   "version": "3.6.5"
  }
 },
 "nbformat": 4,
 "nbformat_minor": 2
}
