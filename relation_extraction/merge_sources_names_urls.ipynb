{
 "cells": [
  {
   "cell_type": "code",
   "execution_count": null,
   "metadata": {},
   "outputs": [],
   "source": [
    "import pandas as pd\n",
    "import json"
   ]
  },
  {
   "cell_type": "markdown",
   "metadata": {},
   "source": [
    "# Entities"
   ]
  },
  {
   "cell_type": "code",
   "execution_count": null,
   "metadata": {},
   "outputs": [],
   "source": [
    "wikia = pd.read_csv(\"info/entities.wikia.csv\", \n",
    "                    names=[\"id\", \"name\", \"url\"],\n",
    "                    usecols=[\"name\", \"url\"], \n",
    "                    header=0, index_col=[\"url\"])\n",
    "gamepedia = pd.read_csv(\"info/entities.gamepedia.csv\", \n",
    "                        names=[\"id\", \"name\", \"url\"],\n",
    "                        usecols=[\"name\", \"url\"], \n",
    "                        header=0, index_col=[\"url\"])"
   ]
  },
  {
   "cell_type": "code",
   "execution_count": null,
   "metadata": {},
   "outputs": [],
   "source": [
    "mixed = pd.concat([wikia, gamepedia])\n",
    "print(mixed.info())\n",
    "\n",
    "unique_names = pd.DataFrame({'name': mixed.name.unique()})\n",
    "unique_urls = pd.DataFrame({'url':mixed.index.unique()})\n",
    "\n",
    "unique_names.to_csv(\"info/entities.csv\")\n",
    "unique_urls.to_csv(\"info/urls.csv\")\n",
    "\n",
    "print(\"Unique names\", len(unique_names))\n",
    "print(\"Unique urls\", len(unique_urls))\n",
    "\n",
    "mixed.sample(5)"
   ]
  },
  {
   "cell_type": "markdown",
   "metadata": {},
   "source": [
    "### Insert in neo4j\n",
    "\n",
    "```\n",
    "LOAD CSV WITH HEADERS FROM \"file:///entities.csv\" AS line WITH line\n",
    "CREATE (:Entity{name:line.name})\n",
    "```\n",
    "\n",
    "```\n",
    "CREATE INDEX ON :Entity(name)\n",
    "```\n",
    "\n",
    "```\n",
    "LOAD CSV WITH HEADERS FROM \"file:///urls.csv\" AS line WITH line\n",
    "CREATE (:Page{url:line.url})\n",
    "```\n",
    "\n",
    "```\n",
    "CREATE INDEX ON :Page(url)\n",
    "```\n",
    "\n",
    "```\n",
    "LOAD CSV WITH HEADERS FROM \"file:///entities.wikia.csv\" AS line WITH line\n",
    "MATCH (e:Entity{name:line.name})\n",
    "MATCH (p:Page{url:line.page})\n",
    "MERGE (e)-[:Website{name:\"wikia\"}]->(p)\n",
    "```\n",
    "\n",
    "```\n",
    "LOAD CSV WITH HEADERS FROM \"file:///entities.gamepedia.csv\" AS line WITH line\n",
    "MATCH (e:Entity{name:line.name})\n",
    "MATCH (p:Page{url:line.page})\n",
    "MERGE (e)-[:Website{name:\"gamepedia\"}]->(p)\n",
    "```"
   ]
  },
  {
   "cell_type": "markdown",
   "metadata": {},
   "source": [
    "## Merge on URL"
   ]
  },
  {
   "cell_type": "code",
   "execution_count": null,
   "metadata": {},
   "outputs": [],
   "source": [
    "joint = pd.merge(wikia, gamepedia, left_index=True, right_index=True,suffixes=('_wikia', '_gamepedia'), how='outer')\n",
    "joint.head()"
   ]
  },
  {
   "cell_type": "code",
   "execution_count": null,
   "metadata": {},
   "outputs": [],
   "source": [
    "shared_entities = joint.loc[pd.notnull(joint[\"name_wikia\"]) & pd.notnull(joint[\"name_gamepedia\"])]\n",
    "only_wikia =joint.loc[pd.notnull(joint[\"name_wikia\"]) & pd.isnull(joint[\"name_gamepedia\"])]\n",
    "only_gamepedia = joint.loc[pd.isnull(joint[\"name_wikia\"]) & pd.notnull(joint[\"name_gamepedia\"])]"
   ]
  },
  {
   "cell_type": "code",
   "execution_count": null,
   "metadata": {},
   "outputs": [],
   "source": [
    "print(shared_entities.info())\n",
    "shared_entities.sample(5)"
   ]
  },
  {
   "cell_type": "code",
   "execution_count": null,
   "metadata": {},
   "outputs": [],
   "source": [
    "print(\"Duplicated\", len(shared_entities[shared_entities.index.duplicated()]))"
   ]
  },
  {
   "cell_type": "markdown",
   "metadata": {},
   "source": [
    "## Merge on name"
   ]
  },
  {
   "cell_type": "code",
   "execution_count": null,
   "metadata": {},
   "outputs": [],
   "source": [
    "joint_names = pd.merge(wikia.reset_index(), \n",
    "                       gamepedia.reset_index(), \n",
    "                       left_on=\"name\", right_on=\"name\",\n",
    "                       suffixes=('_wikia', '_gamepedia'), \n",
    "                       how='outer').set_index(\"name\")\n",
    "\n",
    "shared_entities_name = joint_names.loc[pd.notnull(joint_names[\"url_wikia\"]) & \n",
    "                                  pd.notnull(joint_names[\"url_gamepedia\"])&\n",
    "                                             (joint_names[\"url_gamepedia\"]!= joint_names[\"url_wikia\"])]\n",
    "print(shared_entities_name.info())\n",
    "shared_entities_name.sample(5)"
   ]
  },
  {
   "cell_type": "markdown",
   "metadata": {},
   "source": [
    "## Extract connections"
   ]
  },
  {
   "cell_type": "code",
   "execution_count": null,
   "metadata": {},
   "outputs": [],
   "source": [
    "url_wikia_joint = joint_names.groupby(joint_names.index)[\"url_wikia\"].apply(set)\n",
    "url_gamepedia_joint = joint_names.groupby(joint_names.index)[\"url_gamepedia\"].apply(set)\n",
    "\n",
    "data_urls = list(zip(url_wikia_joint.index.values, url_wikia_joint.values, url_gamepedia_joint.values))"
   ]
  },
  {
   "cell_type": "code",
   "execution_count": null,
   "metadata": {},
   "outputs": [],
   "source": [
    "connections = []\n",
    "for d in data_urls:\n",
    "    name = d[0]\n",
    "    for wikia_url in d[1]:\n",
    "        if pd.notna(wikia_url):\n",
    "            connections.append([name, 'wikia', wikia_url])\n",
    "    for gamepedia_url in d[2]:\n",
    "        if pd.notna(gamepedia_url):\n",
    "            connections.append([name, 'gamepedia', gamepedia_url])\n",
    "\n",
    "connections_urls = pd.DataFrame(connections, columns=['name', 'site', 'url'])\n",
    "print(connections_urls.info())\n",
    "connections_urls.sample(5)"
   ]
  },
  {
   "cell_type": "code",
   "execution_count": null,
   "metadata": {},
   "outputs": [],
   "source": [
    "name_wikia_joint = joint.groupby(joint.index)[\"name_wikia\"].apply(set)\n",
    "name_gamepedia_joint = joint.groupby(joint.index)[\"name_gamepedia\"].apply(set)\n",
    "data_names = list(zip(name_wikia_joint.index.values, name_wikia_joint.values, name_wikia_joint.values))"
   ]
  },
  {
   "cell_type": "code",
   "execution_count": null,
   "metadata": {},
   "outputs": [],
   "source": [
    "connections = []\n",
    "for d in data_names:\n",
    "    url = d[0]\n",
    "    for wikia_name in d[1]:\n",
    "        if pd.notna(wikia_name):\n",
    "            connections.append([wikia_name, 'wikia', url])\n",
    "    for gamepedia_name in d[2]:\n",
    "        if pd.notna(gamepedia_name):\n",
    "            connections.append([gamepedia_name, 'gamepedia', url])\n",
    "\n",
    "connections_names = pd.DataFrame(connections, columns=['name', 'site', 'url'])\n",
    "print(connections_names.info())\n",
    "connections_names.sample(5)"
   ]
  },
  {
   "cell_type": "code",
   "execution_count": null,
   "metadata": {},
   "outputs": [],
   "source": [
    "connections_final = pd.concat([connections_urls, connections_names])\n",
    "connections_final.info()\n",
    "connections_final.sample(5)"
   ]
  },
  {
   "cell_type": "code",
   "execution_count": null,
   "metadata": {},
   "outputs": [],
   "source": [
    "unique_names = pd.DataFrame({'name': connections_final.name.unique()})\n",
    "unique_urls = pd.DataFrame({'url':connections_final.url.unique()})\n",
    "\n",
    "print(\"Unique names\", len(unique_names))\n",
    "print(\"Unique urls\", len(unique_urls))"
   ]
  },
  {
   "cell_type": "markdown",
   "metadata": {},
   "source": [
    "(I just realized that I already had this...)"
   ]
  },
  {
   "cell_type": "code",
   "execution_count": null,
   "metadata": {},
   "outputs": [],
   "source": []
  }
 ],
 "metadata": {
  "kernelspec": {
   "display_name": "Python 3",
   "language": "python",
   "name": "python3"
  },
  "language_info": {
   "codemirror_mode": {
    "name": "ipython",
    "version": 3
   },
   "file_extension": ".py",
   "mimetype": "text/x-python",
   "name": "python",
   "nbconvert_exporter": "python",
   "pygments_lexer": "ipython3",
   "version": "3.6.5"
  }
 },
 "nbformat": 4,
 "nbformat_minor": 2
}
