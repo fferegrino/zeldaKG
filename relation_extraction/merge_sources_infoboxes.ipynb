{
 "cells": [
  {
   "cell_type": "code",
   "execution_count": null,
   "metadata": {},
   "outputs": [],
   "source": [
    "import json\n",
    "import os\n",
    "import pandas as pd\n",
    "from bs4 import BeautifulSoup"
   ]
  },
  {
   "cell_type": "markdown",
   "metadata": {},
   "source": [
    "## Load data  \n",
    "Load data into a dataframe to identify all the possible relationships that exist in the dataset from infoboxes"
   ]
  },
  {
   "cell_type": "code",
   "execution_count": null,
   "metadata": {
    "scrolled": false
   },
   "outputs": [],
   "source": [
    "with open(\"info/infoboxes.wikia.json\", \"r\") as r:\n",
    "    infobox_wikia = json.load(r)\n",
    "    \n",
    "with open(\"info/infoboxes.gamepedia.json\", \"r\") as r:\n",
    "    infobox_gamepedia = json.load(r)\n",
    "\n",
    "types = []\n",
    "i = 0\n",
    "for k in infobox_wikia:\n",
    "    for relation in infobox_wikia[k]:\n",
    "        values = infobox_wikia[k][relation]\n",
    "        for value in values:\n",
    "            types.append([k, relation, value[1], value[0], \"wikia\"])\n",
    "        \n",
    "for k in infobox_gamepedia:\n",
    "    for relation in infobox_gamepedia[k]:\n",
    "        values = infobox_gamepedia[k][relation]\n",
    "        for value in values:\n",
    "            types.append([k, relation, value[1], value[0], \"gamepedia\"])\n",
    "        \n",
    "infobox = pd.DataFrame(types, columns=[\"page\", \"relation\", \"type\", \"value\", \"source\"])\n",
    "\n",
    "infobox.relation.value_counts().describe()"
   ]
  },
  {
   "cell_type": "markdown",
   "metadata": {},
   "source": [
    "### Filter out rows with properties having less than `counts`"
   ]
  },
  {
   "cell_type": "code",
   "execution_count": null,
   "metadata": {},
   "outputs": [],
   "source": [
    "counts = 10\n",
    "filtered = infobox.groupby('relation').filter(lambda x: len(x) >= counts)\n",
    "filtered.relation.value_counts().iloc[:5]"
   ]
  },
  {
   "cell_type": "markdown",
   "metadata": {},
   "source": [
    "## Genders  \n",
    "Let's start with genders"
   ]
  },
  {
   "cell_type": "code",
   "execution_count": null,
   "metadata": {},
   "outputs": [],
   "source": [
    "genders = infobox[(infobox[\"relation\"] == \"GENDER\")].copy() \\\n",
    "    .drop([\"relation\"], axis=1).set_index(\"page\")\n",
    "genders.columns = [\"type\",\"gender\", \"source\"]\n",
    "\n",
    "def get_tag(r):\n",
    "    if r[\"type\"] == \"string\":\n",
    "        return None\n",
    "    soup = BeautifulSoup(r[\"gender\"], \"lxml\")\n",
    "    return soup.body.next.name\n",
    "\n",
    "genders[\"tag\"] = genders.apply(get_tag,axis=1)\n",
    "print(genders.info())\n",
    "genders.sample(5)"
   ]
  },
  {
   "cell_type": "markdown",
   "metadata": {},
   "source": [
    "Select properties where there are no `sup` or `br` tags, and inspect the remaining to see if they are valuable"
   ]
  },
  {
   "cell_type": "code",
   "execution_count": null,
   "metadata": {},
   "outputs": [],
   "source": [
    "genders = genders[(genders[\"tag\"] != \"sup\") & (genders[\"tag\"] != \"br\")]\n",
    "genders.tag.value_counts()"
   ]
  },
  {
   "cell_type": "markdown",
   "metadata": {},
   "source": [
    "Seems like there is nothing valuable, so let's use only the strings properties, we'll need to clean them a bit though."
   ]
  },
  {
   "cell_type": "code",
   "execution_count": null,
   "metadata": {},
   "outputs": [],
   "source": [
    "genders = genders[(genders[\"type\"] == \"string\")]\n",
    "print(genders.info())\n",
    "\n",
    "def get_gender(values):\n",
    "    if len(values) == 1:\n",
    "        value = list(values)[0]\n",
    "        if value == 'Male' or value == 'Female':\n",
    "            return value\n",
    "    return 'Undefined'\n",
    "\n",
    "merged_genders = genders.groupby(genders.index)['gender'].apply(set).apply(get_gender)\n",
    "merged_genders.to_csv(\"info/genders.csv\")"
   ]
  },
  {
   "cell_type": "markdown",
   "metadata": {},
   "source": [
    "```\n",
    "CREATE (:Gender {value:'Male'}), (:Gender {value:'Female'}), (:Gender {value:'Undefined'})\n",
    "```  \n",
    "\n",
    "```\n",
    "LOAD CSV FROM 'file:///genders.csv' AS line WITH line\n",
    "MATCH (p:Page{url:line[0]}) \n",
    "MATCH (g:Gender{value:line[1]})\n",
    "MERGE (p)-[:IsA{property:'gender'}]->(g)\n",
    "```"
   ]
  },
  {
   "cell_type": "code",
   "execution_count": null,
   "metadata": {},
   "outputs": [],
   "source": []
  }
 ],
 "metadata": {
  "kernelspec": {
   "display_name": "Python 3",
   "language": "python",
   "name": "python3"
  },
  "language_info": {
   "codemirror_mode": {
    "name": "ipython",
    "version": 3
   },
   "file_extension": ".py",
   "mimetype": "text/x-python",
   "name": "python",
   "nbconvert_exporter": "python",
   "pygments_lexer": "ipython3",
   "version": "3.6.5"
  }
 },
 "nbformat": 4,
 "nbformat_minor": 2
}
