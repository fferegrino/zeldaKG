{
 "cells": [
  {
   "cell_type": "markdown",
   "metadata": {},
   "source": [
    "# Graph-RAG \n",
    "\n",
    "This notebook contains the code for the *The Legend of Zelda* Graph-RAG system.\n",
    "\n",
    "The graph-RAG system is a system that uses a graph database to store the knowledge of *The Legend of Zelda* universe and makes it available to be queried using a **R**etrieval-**A**ugmented-**G**eneration system."
   ]
  },
  {
   "cell_type": "markdown",
   "metadata": {},
   "source": [
    "### Prerequisites\n",
    "\n",
    "📝 To run this code you will need:\n",
    " - Docker installed on your machine,\n",
    " - A Python 3.10+ interpreter,\n",
    " - An OpenAI API key,\n",
    " - An Anthropic API key.\n",
    "\n",
    "You must have a `.env` file with the following environment variables:\n",
    "\n",
    "```bash\n",
    "OPENAI_API_KEY=[PUT YOUR OPENAI API KEY HERE]\n",
    "OPENAI_MODEL=gpt-4-turbo\n",
    "\n",
    "ANTHROPIC_API_KEY=[PUT YOUR ANTHROPIC API KEY HERE]\n",
    "ANTHROPIC_MODEL=claude-3-5-sonnet-20240620\n",
    "\n",
    "NEO4J_HOST=localhost\n",
    "NEO4J_PORT=7687\n",
    "NEO4J_USER=neo4j\n",
    "NEO4J_PASSWORD=EchoesOfWisdom # If you are using the same password as in the docker-compose file, you can leave it as is.\n",
    "```\n",
    "\n"
   ]
  },
  {
   "cell_type": "markdown",
   "metadata": {},
   "source": [
    "## Graph database\n",
    "\n",
    "The graph database is a Neo4j database instance running inside a Docker container, it exposes two ports to the host machine, one for the HTTP API (that we can use to visualize the graph using the Neo4j Browser) and one for the Bolt API, which is the application programming interface (API) that our Python driver will use to interact with the database.\n",
    "\n",
    "To run the graph database, you can use the following command:\n",
    "\n",
    "```bash\n",
    "docker compose up --build\n",
    "```\n",
    "\n",
    "The command abobe will launch three containers:\n",
    "\n",
    " - One for the Neo4j database and its frontend, \n",
    " - One for for an app that populates the database, and\n",
    " - One for a full end-to-end demo of the graph-RAG system.\n",
    "\n",
    "You can access the Neo4j Browser at [`http://localhost:7474`](http://localhost:7474), use the password set in the `.env` file to login."
   ]
  },
  {
   "cell_type": "markdown",
   "metadata": {},
   "source": [
    "### Connecting with the Python driver"
   ]
  },
  {
   "cell_type": "code",
   "execution_count": 3,
   "metadata": {},
   "outputs": [
    {
     "data": {
      "text/plain": [
       "True"
      ]
     },
     "execution_count": 3,
     "metadata": {},
     "output_type": "execute_result"
    }
   ],
   "source": [
    "from dotenv import load_dotenv\n",
    "import os\n",
    "load_dotenv()\n"
   ]
  },
  {
   "cell_type": "code",
   "execution_count": 6,
   "metadata": {},
   "outputs": [
    {
     "name": "stdout",
     "output_type": "stream",
     "text": [
      "16068\n"
     ]
    }
   ],
   "source": [
    "from neo4j import GraphDatabase\n",
    "\n",
    "host = os.environ[\"NEO4J_HOST\"]\n",
    "user = os.environ[\"NEO4J_USER\"]\n",
    "password = os.environ[\"NEO4J_PASSWORD\"]\n",
    "port = os.environ[\"NEO4J_PORT\"]\n",
    "\n",
    "driver = GraphDatabase.driver(f\"bolt://{host}:{port}\", auth=(user, password))\n",
    "\n",
    "with driver.session() as session:\n",
    "    result = session.run(\"MATCH (n) RETURN count(n) as count\")\n",
    "    print(result.single()[0])"
   ]
  },
  {
   "cell_type": "markdown",
   "metadata": {},
   "source": [
    "## Cypher query generation with an LLM\n",
    "\n",
    "To turn a users' question into a Cypher query, it is necessary to use a Large Language Model (LLM), it is better to use an LLM that has been fine-tuned or trained to generate Cypher queries, but in this case we will use a generic LLM and rely on prompting to guide it to generate the correct Cypher.\n",
    "\n",
    "An important part of generating a good prompt involves providing the LLM with a clear and concise definition of the schema of the graph database, this will help guide the LLM to generate more accurate and relevant Cypher queries.\n",
    "\n",
    "The following code is used to query the database to generate its schema."
   ]
  },
  {
   "cell_type": "code",
   "execution_count": 7,
   "metadata": {},
   "outputs": [],
   "source": [
    "def query_database(neo4j_query):\n",
    "    with driver.session() as session:\n",
    "        result = session.run(neo4j_query)\n",
    "        output = [r.values() for r in result]\n",
    "        output.insert(0, result.keys())\n",
    "        return output"
   ]
  },
  {
   "cell_type": "markdown",
   "metadata": {},
   "source": [
    "### Node schema generation"
   ]
  },
  {
   "cell_type": "code",
   "execution_count": 10,
   "metadata": {},
   "outputs": [
    {
     "name": "stdout",
     "output_type": "stream",
     "text": [
      "### Nodes\n",
      "\n",
      "The following are the nodes in the graph database, along with their properties.\n",
      "The property descriptions are listed at the end.\n",
      "\n",
      " - ENTITY, with properties: gender, name, uri\n",
      " - LOCATION, with properties: gender, name, uri\n",
      " - ITEM, with properties: name, uri\n",
      " - QUEST, with properties: name, uri\n",
      " - CHARACTER, with properties: gender, name, uri\n",
      " - ENEMY, with properties: gender, name, uri\n",
      " - BOSS, with properties: gender, name, uri\n",
      " - OBJECT, with properties: gender, name, uri\n",
      " - SHRINE, with properties: name, uri\n",
      " - SHOP, with properties: name, uri\n",
      " - GROUP, with properties: gender, name, uri\n",
      " - WEAPON, with properties: name, uri\n",
      " - DUNGEON, with properties: name, uri\n",
      " - SONG, with properties: name, uri\n",
      " - SHIELD, with properties: name, uri\n",
      " - SWORD, with properties: name, uri\n",
      " - MASK, with properties: name, uri\n",
      " - STAGE, with properties: name, uri\n",
      " - SEQUEL, with properties: name, uri\n",
      " - RACE, with properties: gender, name, uri\n",
      "\n",
      "Property descriptions:\n",
      " - gender: Gender of the entity, if applicable\n",
      " - name: Name of the entity\n",
      " - uri: URI of the entity, it is a unique identifier\n"
     ]
    }
   ],
   "source": [
    "node_properties_query = \"\"\"CALL apoc.meta.data()\n",
    "YIELD label, other, elementType, type, property\n",
    "WHERE NOT type = \"RELATIONSHIP\" AND elementType = \"node\"\n",
    "WITH label AS nodeLabels, collect(property) AS properties\n",
    "RETURN {labels: nodeLabels, properties: properties} AS output\n",
    "\"\"\"\n",
    "\n",
    "def get_nodes_schema():\n",
    "    properties_descriptions = {\n",
    "        'name': 'Name of the entity',\n",
    "        'uri': 'URI of the entity, it is a unique identifier',\n",
    "        'gender': 'Gender of the entity, if applicable',\n",
    "    }\n",
    "\n",
    "    node_props = query_database(node_properties_query)\n",
    "    nodes = [node[0] for node in node_props[1:]]\n",
    "\n",
    "    node_descriptions = []\n",
    "    for node in nodes:\n",
    "        listable_properties = sorted([prop for prop in node['properties'] if prop in properties_descriptions])\n",
    "        node_description = f\" - {node['labels']}, with properties: {', '.join(listable_properties)}\"\n",
    "        node_descriptions.append(node_description)\n",
    "\n",
    "    prop_descriptions = [\n",
    "        f\" - {prop}: {properties_descriptions[prop]}\" for prop in sorted(properties_descriptions)\n",
    "    ]\n",
    "\n",
    "    property_description_instructions = [\n",
    "        \"### Nodes\",\n",
    "        \"\",\n",
    "        \"The following are the nodes in the graph database, along with their properties.\",\n",
    "        \"The property descriptions are listed at the end.\",\n",
    "        \"\",\n",
    "        *node_descriptions,\n",
    "        \"\",\n",
    "        \"Property descriptions:\",\n",
    "        *prop_descriptions,\n",
    "    ]\n",
    "\n",
    "    return \"\\n\".join(property_description_instructions)\n",
    "\n",
    "nodes_schema = get_nodes_schema()\n",
    "\n",
    "print(nodes_schema)"
   ]
  },
  {
   "cell_type": "markdown",
   "metadata": {},
   "source": [
    "### Relationship schema generation"
   ]
  },
  {
   "cell_type": "code",
   "execution_count": 12,
   "metadata": {},
   "outputs": [],
   "source": [
    "rel_properties_query = \"\"\"\n",
    "CALL apoc.meta.data()\n",
    "YIELD label, other, elementType, type, property\n",
    "WHERE NOT type = \"RELATIONSHIP\" AND elementType = \"relationship\"\n",
    "WITH label AS nodeLabels, collect(property) AS properties\n",
    "RETURN {type: nodeLabels, properties: properties} AS output\n",
    "\"\"\"\n",
    "\n",
    "rel_query = \"\"\"\n",
    "CALL apoc.meta.data()\n",
    "YIELD label, other, elementType, type, property\n",
    "WHERE type = \"RELATIONSHIP\" AND elementType = \"node\"\n",
    "RETURN {source: label, relationship: property, target: other} AS output\n",
    "\"\"\""
   ]
  },
  {
   "cell_type": "code",
   "execution_count": 13,
   "metadata": {},
   "outputs": [
    {
     "name": "stdout",
     "output_type": "stream",
     "text": [
      "### Relationships\n",
      "\n",
      "The following are the relationships in the graph database\n",
      "\n",
      " - `appears_in`, that relates `ENTITY` with `ENTITY`, `LOCATION`, `DUNGEON`, `RACE`, `CHARACTER`, `ENEMY`\n",
      " - `location`, that relates `ENTITY` with `ENTITY`, `DUNGEON`, `LOCATION`, `SHOP`, `ENEMY`, `OBJECT`, `RACE`, `ITEM`\n",
      " - `country`, that relates `ENTITY` with `ENTITY`, `LOCATION`, `RACE`\n",
      " - `region`, that relates `ENTITY` with `ENTITY`, `LOCATION`\n",
      " - `hometown`, that relates `ENTITY` with `ENTITY`, `LOCATION`, `SHRINE`, `QUEST`, `DUNGEON`\n",
      " - `is`, that relates `ENTITY` with `ENTITY`, `RACE`, `ENEMY`, `CHARACTER`\n",
      " - `homeland`, that relates `ENTITY` with `ENTITY`, `LOCATION`, `RACE`\n",
      " - `related_to`, that relates `ENTITY` with `ENTITY`, `CHARACTER`, `BOSS`, `RACE`\n",
      " - `location`, that relates `LOCATION` with `ENTITY`, `LOCATION`, `RACE`, `DUNGEON`, `SHOP`, `STAGE`\n",
      " - `appears_in`, that relates `LOCATION` with `ENTITY`, `LOCATION`, `ITEM`, `DUNGEON`, `RACE`, `STAGE`, `BOSS`\n",
      " - `region`, that relates `LOCATION` with `ENTITY`, `LOCATION`, `DUNGEON`, `STAGE`\n",
      " - `country`, that relates `LOCATION` with `ENTITY`, `LOCATION`, `RACE`\n",
      " - `is`, that relates `LOCATION` with `ENTITY`, `RACE`\n",
      " - `homeland`, that relates `LOCATION` with `ENTITY`\n",
      " - `hometown`, that relates `LOCATION` with `ENTITY`, `LOCATION`\n",
      " - `appears_in`, that relates `ITEM` with `ENTITY`, `QUEST`, `BOSS`\n",
      " - `location`, that relates `ITEM` with `ENTITY`, `SHOP`, `LOCATION`, `STAGE`, `DUNGEON`, `RACE`, `CHARACTER`, `SHRINE`\n",
      " - `country`, that relates `ITEM` with `ENTITY`\n",
      " - `appears_in`, that relates `QUEST` with `ENTITY`\n",
      " - `location`, that relates `QUEST` with `ENTITY`, `LOCATION`, `SHRINE`\n",
      " - `homeland`, that relates `CHARACTER` with `ENTITY`, `LOCATION`, `RACE`, `STAGE`\n",
      " - `is`, that relates `CHARACTER` with `ENTITY`, `RACE`, `ENEMY`, `CHARACTER`, `LOCATION`, `ITEM`, `OBJECT`\n",
      " - `related_to`, that relates `CHARACTER` with `ENTITY`, `CHARACTER`, `ENEMY`, `GROUP`, `RACE`, `ITEM`, `SHOP`\n",
      " - `hometown`, that relates `CHARACTER` with `ENTITY`, `LOCATION`, `SHRINE`, `DUNGEON`, `STAGE`\n",
      " - `appears_in`, that relates `CHARACTER` with `ENTITY`, `CHARACTER`, `LOCATION`\n",
      " - `location`, that relates `CHARACTER` with `ENTITY`, `LOCATION`, `DUNGEON`\n",
      " - `region`, that relates `CHARACTER` with `ENTITY`, `LOCATION`\n",
      " - `country`, that relates `CHARACTER` with `ENTITY`\n",
      " - `appears_in`, that relates `ENEMY` with `ENTITY`, `ENEMY`, `RACE`\n",
      " - `location`, that relates `ENEMY` with `ENTITY`, `LOCATION`, `DUNGEON`, `STAGE`, `ITEM`, `OBJECT`, `RACE`\n",
      " - `homeland`, that relates `ENEMY` with `ENTITY`\n",
      " - `is`, that relates `ENEMY` with `ENTITY`, `RACE`\n",
      " - `location`, that relates `BOSS` with `ENTITY`, `LOCATION`, `DUNGEON`, `CHARACTER`, `STAGE`\n",
      " - `appears_in`, that relates `BOSS` with `ENTITY`, `LOCATION`, `DUNGEON`, `STAGE`, `ENEMY`, `RACE`, `CHARACTER`\n",
      " - `hometown`, that relates `BOSS` with `ENTITY`, `LOCATION`, `STAGE`, `DUNGEON`\n",
      " - `is`, that relates `BOSS` with `ENTITY`, `RACE`, `ENEMY`\n",
      " - `homeland`, that relates `BOSS` with `ENTITY`, `LOCATION`\n",
      " - `related_to`, that relates `BOSS` with `ENTITY`, `CHARACTER`, `BOSS`\n",
      " - `appears_in`, that relates `OBJECT` with `ENTITY`, `RACE`\n",
      " - `hometown`, that relates `OBJECT` with `ENTITY`, `LOCATION`\n",
      " - `is`, that relates `OBJECT` with `ENTITY`, `ITEM`, `OBJECT`, `RACE`\n",
      " - `homeland`, that relates `OBJECT` with `ENTITY`, `LOCATION`\n",
      " - `location`, that relates `OBJECT` with `ENTITY`\n",
      " - `region`, that relates `OBJECT` with `ENTITY`, `LOCATION`\n",
      " - `country`, that relates `OBJECT` with `ENTITY`\n",
      " - `location`, that relates `SHRINE` with `ENTITY`, `LOCATION`, `RACE`, `DUNGEON`\n",
      " - `appears_in`, that relates `SHRINE` with `ENTITY`\n",
      " - `location`, that relates `SHOP` with `ENTITY`, `LOCATION`\n",
      " - `appears_in`, that relates `SHOP` with `ENTITY`, `LOCATION`\n",
      " - `country`, that relates `SHOP` with `ENTITY`\n",
      " - `region`, that relates `SHOP` with `ENTITY`, `LOCATION`\n",
      " - `appears_in`, that relates `GROUP` with `ENTITY`, `ENEMY`, `RACE`, `BOSS`, `LOCATION`\n",
      " - `is`, that relates `GROUP` with `ENTITY`, `RACE`, `ENEMY`, `BOSS`\n",
      " - `location`, that relates `GROUP` with `ENTITY`, `LOCATION`, `DUNGEON`, `STAGE`\n",
      " - `related_to`, that relates `GROUP` with `ENTITY`, `CHARACTER`, `BOSS`, `ENEMY`\n",
      " - `homeland`, that relates `GROUP` with `ENTITY`\n",
      " - `appears_in`, that relates `WEAPON` with `ENTITY`\n",
      " - `location`, that relates `WEAPON` with `ENTITY`, `LOCATION`, `DUNGEON`\n",
      " - `location`, that relates `DUNGEON` with `ENTITY`, `LOCATION`, `DUNGEON`, `RACE`\n",
      " - `appears_in`, that relates `DUNGEON` with `ENTITY`, `RACE`, `DUNGEON`, `LOCATION`\n",
      " - `region`, that relates `DUNGEON` with `ENTITY`, `LOCATION`\n",
      " - `country`, that relates `DUNGEON` with `ENTITY`\n",
      " - `appears_in`, that relates `SONG` with `ENTITY`, `SONG`\n",
      " - `place`, that relates `SONG` with `ENTITY`, `LOCATION`\n",
      " - `appears_in`, that relates `SHIELD` with `ENTITY`\n",
      " - `appears_in`, that relates `SWORD` with `ENTITY`, `RACE`\n",
      " - `location`, that relates `SWORD` with `ENTITY`, `LOCATION`, `RACE`\n",
      " - `appears_in`, that relates `MASK` with `ENTITY`\n",
      " - `location`, that relates `MASK` with `ENTITY`, `LOCATION`, `SHOP`\n",
      " - `region`, that relates `STAGE` with `ENTITY`, `LOCATION`, `STAGE`\n",
      " - `appears_in`, that relates `STAGE` with `ENTITY`, `LOCATION`, `STAGE`\n",
      " - `country`, that relates `STAGE` with `ENTITY`\n",
      " - `location`, that relates `STAGE` with `ENTITY`, `LOCATION`\n",
      " - `appears_in`, that relates `SEQUEL` with `ENTITY`\n",
      " - `homeland`, that relates `RACE` with `ENTITY`, `LOCATION`, `DUNGEON`\n",
      " - `appears_in`, that relates `RACE` with `ENTITY`\n",
      " - `location`, that relates `RACE` with `ENTITY`, `LOCATION`, `DUNGEON`, `RACE`, `STAGE`\n",
      " - `is`, that relates `RACE` with `ENTITY`, `RACE`\n",
      " - `hometown`, that relates `RACE` with `ENTITY`, `LOCATION`, `DUNGEON`\n",
      " - `related_to`, that relates `RACE` with `ENTITY`, `RACE`, `CHARACTER`\n",
      "\n",
      "Property descriptions:\n",
      " - relation: When used as a property of `related_to`, it specifies the type of relationship between two entities (father, mother, etc)\n"
     ]
    }
   ],
   "source": [
    "\n",
    "def get_rel_schema():\n",
    "    rels = query_database(rel_query)\n",
    "    rels = [r[0] for r in rels[1:]]\n",
    "\n",
    "    rel_descriptions = []\n",
    "    for rel in rels:\n",
    "        targets = \", \".join([f\"`{t}`\" for t in rel['target']])\n",
    "        rel_description = f\" - `{rel['relationship']}`, that relates `{rel['source']}` with {targets}\"\n",
    "        rel_descriptions.append(rel_description)\n",
    "\n",
    "    rel_props_descriptions = {\n",
    "        'relation':'When used as a property of `related_to`, it specifies the type of relationship between two entities (father, mother, etc)'\n",
    "    }\n",
    "\n",
    "    rel_props_descriptions = [\n",
    "        f\" - {prop}: {rel_props_descriptions[prop]}\" for prop in sorted(rel_props_descriptions)\n",
    "    ]\n",
    "\n",
    "    rels_description_instructions = [\n",
    "        \"### Relationships\",\n",
    "        \"\",\n",
    "        \"The following are the relationships in the graph database\",\n",
    "        \"\",\n",
    "        *rel_descriptions,\n",
    "        \"\",\n",
    "        \"Property descriptions:\",\n",
    "        *rel_props_descriptions,\n",
    "    ]\n",
    "\n",
    "    return \"\\n\".join(rels_description_instructions)\n",
    "\n",
    "rel_schema = get_rel_schema()\n",
    "print(rel_schema)\n"
   ]
  },
  {
   "cell_type": "markdown",
   "metadata": {},
   "source": [
    "### Build full prompt"
   ]
  },
  {
   "cell_type": "code",
   "execution_count": 14,
   "metadata": {},
   "outputs": [
    {
     "name": "stdout",
     "output_type": "stream",
     "text": [
      "## Task:\n",
      "\n",
      "Generate Cypher queries to query a Neo4j graph database based on the provided schema definition.\n",
      "\n",
      "## Instructions:\n",
      "\n",
      "You are an expert at generating Cypher queries to query a Neo4j graph database based on the provided schema definition.\n",
      "Use only the provided relationship types and properties.\n",
      "Do not use any other relationship types or properties that are not provided.\n",
      "If you cannot generate a Cypher statement based on the provided schema, explain the reason to the user.\n",
      "Try to eliminate duplicate results.\n",
      "\n",
      "## Schema:\n",
      "\n",
      "### Nodes\n",
      "\n",
      "The following are the nodes in the graph database, along with their properties.\n",
      "The property descriptions are listed at the end.\n",
      "\n",
      " - ENTITY, with properties: gender, name, uri\n",
      " - LOCATION, with properties: gender, name, uri\n",
      " - ITEM, with properties: name, uri\n",
      " - QUEST, with properties: name, uri\n",
      " - CHARACTER, with properties: gender, name, uri\n",
      " - ENEMY, with properties: gender, name, uri\n",
      " - BOSS, with properties: gender, name, uri\n",
      " - OBJECT, with properties: gender, name, uri\n",
      " - SHRINE, with properties: name, uri\n",
      " - SHOP, with properties: name, uri\n",
      " - GROUP, with properties: gender, name, uri\n",
      " - WEAPON, with properties: name, uri\n",
      " - DUNGEON, with properties: name, uri\n",
      " - SONG, with properties: name, uri\n",
      " - SHIELD, with properties: name, uri\n",
      " - SWORD, with properties: name, uri\n",
      " - MASK, with properties: name, uri\n",
      " - STAGE, with properties: name, uri\n",
      " - SEQUEL, with properties: name, uri\n",
      " - RACE, with properties: gender, name, uri\n",
      "\n",
      "Property descriptions:\n",
      " - gender: Gender of the entity, if applicable\n",
      " - name: Name of the entity\n",
      " - uri: URI of the entity, it is a unique identifier\n",
      "### Relationships\n",
      "\n",
      "The following are the relationships in the graph database\n",
      "\n",
      " - `appears_in`, that relates `ENTITY` with `ENTITY`, `DUNGEON`, `RACE`, `LOCATION`, `ENEMY`, `CHARACTER`, `STAGE`\n",
      " - `location`, that relates `ENTITY` with `ENTITY`, `LOCATION`, `DUNGEON`, `STAGE`, `SHOP`, `SHRINE`\n",
      " - `hometown`, that relates `ENTITY` with `ENTITY`, `LOCATION`, `SHRINE`, `STAGE`\n",
      " - `is`, that relates `ENTITY` with `ENTITY`, `RACE`, `ENEMY`\n",
      " - `homeland`, that relates `ENTITY` with `ENTITY`, `LOCATION`, `STAGE`\n",
      " - `region`, that relates `ENTITY` with `ENTITY`, `LOCATION`\n",
      " - `country`, that relates `ENTITY` with `ENTITY`, `LOCATION`\n",
      " - `related_to`, that relates `ENTITY` with `ENTITY`, `CHARACTER`, `ITEM`\n",
      " - `location`, that relates `LOCATION` with `ENTITY`, `LOCATION`, `RACE`, `DUNGEON`, `SHOP`, `STAGE`\n",
      " - `appears_in`, that relates `LOCATION` with `ENTITY`, `LOCATION`, `ITEM`, `DUNGEON`, `RACE`, `STAGE`, `BOSS`\n",
      " - `region`, that relates `LOCATION` with `ENTITY`, `LOCATION`, `DUNGEON`, `STAGE`\n",
      " - `country`, that relates `LOCATION` with `ENTITY`, `LOCATION`, `RACE`\n",
      " - `is`, that relates `LOCATION` with `ENTITY`, `RACE`\n",
      " - `homeland`, that relates `LOCATION` with `ENTITY`\n",
      " - `hometown`, that relates `LOCATION` with `ENTITY`, `LOCATION`\n",
      " - `appears_in`, that relates `ITEM` with `ENTITY`, `QUEST`, `BOSS`\n",
      " - `location`, that relates `ITEM` with `ENTITY`, `SHOP`, `LOCATION`, `STAGE`, `DUNGEON`, `RACE`, `CHARACTER`, `SHRINE`\n",
      " - `country`, that relates `ITEM` with `ENTITY`\n",
      " - `appears_in`, that relates `QUEST` with `ENTITY`\n",
      " - `location`, that relates `QUEST` with `ENTITY`, `LOCATION`, `SHRINE`\n",
      " - `homeland`, that relates `CHARACTER` with `ENTITY`, `LOCATION`, `RACE`, `STAGE`\n",
      " - `is`, that relates `CHARACTER` with `ENTITY`, `RACE`, `ENEMY`, `CHARACTER`, `LOCATION`, `ITEM`, `OBJECT`\n",
      " - `related_to`, that relates `CHARACTER` with `ENTITY`, `CHARACTER`, `ENEMY`, `GROUP`, `RACE`, `ITEM`, `SHOP`\n",
      " - `hometown`, that relates `CHARACTER` with `ENTITY`, `LOCATION`, `SHRINE`, `DUNGEON`, `STAGE`\n",
      " - `appears_in`, that relates `CHARACTER` with `ENTITY`, `CHARACTER`, `LOCATION`\n",
      " - `location`, that relates `CHARACTER` with `ENTITY`, `LOCATION`, `DUNGEON`\n",
      " - `region`, that relates `CHARACTER` with `ENTITY`, `LOCATION`\n",
      " - `country`, that relates `CHARACTER` with `ENTITY`\n",
      " - `appears_in`, that relates `ENEMY` with `ENTITY`, `ENEMY`, `RACE`\n",
      " - `location`, that relates `ENEMY` with `ENTITY`, `LOCATION`, `DUNGEON`, `STAGE`, `ITEM`, `OBJECT`, `RACE`\n",
      " - `homeland`, that relates `ENEMY` with `ENTITY`\n",
      " - `is`, that relates `ENEMY` with `ENTITY`, `RACE`\n",
      " - `location`, that relates `BOSS` with `ENTITY`, `LOCATION`, `DUNGEON`, `CHARACTER`, `STAGE`\n",
      " - `appears_in`, that relates `BOSS` with `ENTITY`, `LOCATION`, `DUNGEON`, `STAGE`, `ENEMY`, `RACE`, `CHARACTER`\n",
      " - `hometown`, that relates `BOSS` with `ENTITY`, `LOCATION`, `STAGE`, `DUNGEON`\n",
      " - `is`, that relates `BOSS` with `ENTITY`, `RACE`, `ENEMY`\n",
      " - `homeland`, that relates `BOSS` with `ENTITY`, `LOCATION`\n",
      " - `related_to`, that relates `BOSS` with `ENTITY`, `CHARACTER`, `BOSS`\n",
      " - `appears_in`, that relates `OBJECT` with `ENTITY`, `RACE`\n",
      " - `hometown`, that relates `OBJECT` with `ENTITY`, `LOCATION`\n",
      " - `is`, that relates `OBJECT` with `ENTITY`, `ITEM`, `OBJECT`, `RACE`\n",
      " - `homeland`, that relates `OBJECT` with `ENTITY`, `LOCATION`\n",
      " - `location`, that relates `OBJECT` with `ENTITY`\n",
      " - `region`, that relates `OBJECT` with `ENTITY`, `LOCATION`\n",
      " - `country`, that relates `OBJECT` with `ENTITY`\n",
      " - `location`, that relates `SHRINE` with `ENTITY`, `LOCATION`, `RACE`, `DUNGEON`\n",
      " - `appears_in`, that relates `SHRINE` with `ENTITY`\n",
      " - `location`, that relates `SHOP` with `ENTITY`, `LOCATION`\n",
      " - `appears_in`, that relates `SHOP` with `ENTITY`, `LOCATION`\n",
      " - `country`, that relates `SHOP` with `ENTITY`\n",
      " - `region`, that relates `SHOP` with `ENTITY`, `LOCATION`\n",
      " - `appears_in`, that relates `GROUP` with `ENTITY`, `ENEMY`, `RACE`, `BOSS`, `LOCATION`\n",
      " - `is`, that relates `GROUP` with `ENTITY`, `RACE`, `ENEMY`, `BOSS`\n",
      " - `location`, that relates `GROUP` with `ENTITY`, `LOCATION`, `DUNGEON`, `STAGE`\n",
      " - `related_to`, that relates `GROUP` with `ENTITY`, `CHARACTER`, `BOSS`, `ENEMY`\n",
      " - `homeland`, that relates `GROUP` with `ENTITY`\n",
      " - `appears_in`, that relates `WEAPON` with `ENTITY`\n",
      " - `location`, that relates `WEAPON` with `ENTITY`, `LOCATION`, `DUNGEON`\n",
      " - `location`, that relates `DUNGEON` with `ENTITY`, `LOCATION`, `DUNGEON`, `RACE`\n",
      " - `appears_in`, that relates `DUNGEON` with `ENTITY`, `RACE`, `DUNGEON`, `LOCATION`\n",
      " - `region`, that relates `DUNGEON` with `ENTITY`, `LOCATION`\n",
      " - `country`, that relates `DUNGEON` with `ENTITY`\n",
      " - `appears_in`, that relates `SONG` with `ENTITY`, `SONG`\n",
      " - `place`, that relates `SONG` with `ENTITY`, `LOCATION`\n",
      " - `appears_in`, that relates `SHIELD` with `ENTITY`\n",
      " - `appears_in`, that relates `SWORD` with `ENTITY`, `RACE`\n",
      " - `location`, that relates `SWORD` with `ENTITY`, `LOCATION`, `RACE`\n",
      " - `appears_in`, that relates `MASK` with `ENTITY`\n",
      " - `location`, that relates `MASK` with `ENTITY`, `LOCATION`, `SHOP`\n",
      " - `region`, that relates `STAGE` with `ENTITY`, `LOCATION`, `STAGE`\n",
      " - `appears_in`, that relates `STAGE` with `ENTITY`, `LOCATION`, `STAGE`\n",
      " - `country`, that relates `STAGE` with `ENTITY`\n",
      " - `location`, that relates `STAGE` with `ENTITY`, `LOCATION`\n",
      " - `appears_in`, that relates `SEQUEL` with `ENTITY`\n",
      " - `homeland`, that relates `RACE` with `ENTITY`, `LOCATION`, `DUNGEON`\n",
      " - `appears_in`, that relates `RACE` with `ENTITY`\n",
      " - `location`, that relates `RACE` with `ENTITY`, `LOCATION`, `DUNGEON`, `RACE`, `STAGE`\n",
      " - `is`, that relates `RACE` with `ENTITY`, `RACE`\n",
      " - `hometown`, that relates `RACE` with `ENTITY`, `LOCATION`, `DUNGEON`\n",
      " - `related_to`, that relates `RACE` with `ENTITY`, `RACE`, `CHARACTER`\n",
      "\n",
      "Property descriptions:\n",
      " - relation: When used as a property of `related_to`, it specifies the type of relationship between two entities (father, mother, etc)\n",
      "\n",
      "Note: Do not include any explanations or apologies in your responses.\n"
     ]
    }
   ],
   "source": [
    "def get_system_message():\n",
    "\n",
    "    node_schema = get_nodes_schema()\n",
    "    rel_schema = get_rel_schema()\n",
    "    return f\"\"\"\n",
    "## Task:\n",
    "\n",
    "Generate Cypher queries to query a Neo4j graph database based on the provided schema definition.\n",
    "\n",
    "## Instructions:\n",
    "\n",
    "You are an expert at generating Cypher queries to query a Neo4j graph database based on the provided schema definition.\n",
    "Use only the provided relationship types and properties.\n",
    "Do not use any other relationship types or properties that are not provided.\n",
    "If you cannot generate a Cypher statement based on the provided schema, explain the reason to the user.\n",
    "Try to eliminate duplicate results.\n",
    "\n",
    "## Schema:\n",
    "\n",
    "{node_schema}\n",
    "{rel_schema}\n",
    "\n",
    "Note: Do not include any explanations or apologies in your responses.\"\"\".strip()\n",
    "\n",
    "print(get_system_message())"
   ]
  },
  {
   "cell_type": "markdown",
   "metadata": {},
   "source": [
    "### Using Claude 3.5 from Anthropic to generate Cypher queries"
   ]
  },
  {
   "cell_type": "code",
   "execution_count": 20,
   "metadata": {},
   "outputs": [],
   "source": [
    "import anthropic\n",
    "\n",
    "anthropic_client = anthropic.Anthropic()\n",
    "\n",
    "def get_candidate_cypher_query(question):\n",
    "    message = anthropic_client.messages.create(\n",
    "        model=os.environ[\"ANTHROPIC_MODEL\"],\n",
    "        max_tokens=1000,\n",
    "        temperature=0,\n",
    "        system=get_system_message(),\n",
    "        messages=[\n",
    "            {\n",
    "                \"role\": \"user\",\n",
    "                \"content\": [\n",
    "                    {\n",
    "                        \"type\": \"text\",\n",
    "                        \"text\": question\n",
    "                    }\n",
    "                ]\n",
    "            }\n",
    "        ]\n",
    "    )\n",
    "\n",
    "    return message.content[0].text"
   ]
  },
  {
   "cell_type": "code",
   "execution_count": 37,
   "metadata": {},
   "outputs": [
    {
     "name": "stdout",
     "output_type": "stream",
     "text": [
      "To find games where both the Hookshot and Bow appear, we can use the following Cypher query:\n",
      "\n",
      "MATCH (hookshot:ITEM {name: \"Hookshot\"})-[:appears_in]->(game:ENTITY)\n",
      "MATCH (bow:ITEM {name: \"Bow\"})-[:appears_in]->(game)\n",
      "RETURN DISTINCT game.name AS Game\n",
      "\n",
      "This query will return the names of games where both the Hookshot and Bow appear.\n"
     ]
    }
   ],
   "source": [
    "query_1 = \"In which games does the Hookshot and Bow appear at the same time?\"\n",
    "cypher_query_1 = get_candidate_cypher_query(query_1)\n",
    "print(cypher_query_1)"
   ]
  },
  {
   "cell_type": "code",
   "execution_count": 21,
   "metadata": {},
   "outputs": [
    {
     "name": "stdout",
     "output_type": "stream",
     "text": [
      "To find the character with the most relatives, we can use the following Cypher query:\n",
      "\n",
      "MATCH (c:CHARACTER)-[r:related_to]->(relative)\n",
      "WITH c, COUNT(DISTINCT relative) AS relativeCount\n",
      "RETURN c.name AS Character, relativeCount AS RelativeCount\n",
      "ORDER BY relativeCount DESC\n",
      "LIMIT 1\n"
     ]
    }
   ],
   "source": [
    "\n",
    "candidate_cypher = get_candidate_cypher_query(\"Which character has the most relatives?\")\n",
    "print(candidate_cypher)"
   ]
  },
  {
   "cell_type": "markdown",
   "metadata": {},
   "source": [
    "## Execute the Cypher query"
   ]
  },
  {
   "cell_type": "code",
   "execution_count": 26,
   "metadata": {},
   "outputs": [
    {
     "name": "stdout",
     "output_type": "stream",
     "text": [
      "[['game.name'], ['The Legend of Zelda: Ocarina of Time'], ['The Legend of Zelda: A Link to the Past'], ['The Legend of Zelda: A Link Between Worlds'], ['The Legend of Zelda'], ['The Legend of Zelda (Game)'], ['Super Smash Bros.'], ['Super Smash Bros. Brawl'], ['Super Smash Bros. Melee'], ['Hyrule Warriors'], ['BS The Legend of Zelda: Ancient Stone Tablets'], ['The Legend of Zelda: The Wind Waker']]\n"
     ]
    }
   ],
   "source": [
    "results_query_1 = query_database(cypher_query_1)\n",
    "print(results_query_1)"
   ]
  },
  {
   "cell_type": "markdown",
   "metadata": {},
   "source": [
    "## Use another LLM to generate the response to the user\n",
    "\n",
    "Once we have the results from querying our graph database, we can use another LLM to generate a response to the user.\n",
    "\n",
    "This generation will be done using OpenAI's GPT-4 model, and while this will be a different prompt to the one used to generate the Cypher query, it will still require to contain the original user's question, and the results from the graph database query.\n",
    "\n",
    "### Formatting the results from the graph database query\n",
    "\n",
    "There are multiple ways to format the results from the graph database query to be used in the prompt to generate the response to the user – you can provide the results in a table, in a list, or in a more free-form text format.\n",
    "\n",
    "In our case, we will use a table in markdown format.\n",
    "\n"
   ]
  },
  {
   "cell_type": "code",
   "execution_count": 35,
   "metadata": {},
   "outputs": [
    {
     "name": "stdout",
     "output_type": "stream",
     "text": [
      "| game.name                                     |\n",
      "|-----------------------------------------------|\n",
      "| The Legend of Zelda: Ocarina of Time          |\n",
      "| The Legend of Zelda: A Link to the Past       |\n",
      "| The Legend of Zelda: A Link Between Worlds    |\n",
      "| The Legend of Zelda                           |\n",
      "| The Legend of Zelda (Game)                    |\n",
      "| Super Smash Bros.                             |\n",
      "| Super Smash Bros. Brawl                       |\n",
      "| Super Smash Bros. Melee                       |\n",
      "| Hyrule Warriors                               |\n",
      "| BS The Legend of Zelda: Ancient Stone Tablets |\n",
      "| The Legend of Zelda: The Wind Waker           |\n",
      "\n"
     ]
    }
   ],
   "source": [
    "def format_results_as_markdown_table(results):\n",
    "    if not results:\n",
    "        return \"\"\n",
    "\n",
    "    headers = results[0]\n",
    "\n",
    "    columns = len(headers)\n",
    "\n",
    "    column_widths = [len(header) for header in headers]\n",
    "    \n",
    "    for result in results[1:]:\n",
    "        column_widths = [\n",
    "            max(column_width, len(value)) for column_width, value in zip(column_widths, result)\n",
    "        ]\n",
    "\n",
    "    rows = []\n",
    "    def format_row(row, space_char=\" \"):\n",
    "        return \"|\" + (\"|\".join([f\"{space_char}{value:<{column_widths[i]}}{space_char}\" for i, value in enumerate(row)])) + \"|\"\n",
    "\n",
    "    rows.append(format_row(headers))\n",
    "    rows.append(format_row([\"-\" * column_widths[i] for i in range(columns)], \"-\"))\n",
    "    for result in results[1:]:\n",
    "        rows.append(format_row(result))\n",
    "    rows.append(\"\")\n",
    "    return \"\\n\".join(rows)\n",
    "    \n",
    "formatted_results_1 = format_results_as_markdown_table(results_query_1)\n",
    "print(formatted_results_1)\n"
   ]
  },
  {
   "cell_type": "markdown",
   "metadata": {},
   "source": [
    "### Generate a prompt and system instructions for result generation\n",
    "\n",
    "This prompt will be used to generate a response to the user, and will be a combination of the user's question, the results from the graph database query, along with some instructions on how to format the response."
   ]
  },
  {
   "cell_type": "code",
   "execution_count": 44,
   "metadata": {},
   "outputs": [],
   "source": [
    "generation_system_instruction = \"\"\"\n",
    "You are a Zelda expert, and your goal is to answer the user's question.\n",
    "You will be provided with a table of results from a graph database query.\n",
    "The results are related to the user's question and may represent appereances, counts, or relationships between entities in the Zelda universe.\n",
    "Do not mention that the results are coming from a neo4j database.\n",
    "Your task is to generate a response to the user's question based on the provided results.\n",
    "Do not use any information that is not provided in the results.  \n",
    "If the results are empty, explain it to the user. \n",
    "Use all the information provided to you to answer the question.\n",
    "Do not return any links, urls or references.\n",
    "Be as comprehensive as possible. \n",
    "\"\"\".strip()\n",
    "\n",
    "generation_prompt = f\"\"\"These are the results from a graph database query related to the user's question:\n",
    "\n",
    "{{results_table}}\n",
    "\n",
    "And the user's question you must answer using the results:\n",
    "\n",
    "{{question}}\n",
    "\"\"\"\n"
   ]
  },
  {
   "cell_type": "code",
   "execution_count": 45,
   "metadata": {},
   "outputs": [
    {
     "name": "stdout",
     "output_type": "stream",
     "text": [
      "Based on the provided results, the Hookshot and Bow both appear in the following games:\n",
      "\n",
      "1. **The Legend of Zelda: Ocarina of Time** - Both the Hookshot and Bow are essential items for navigating dungeons and solving puzzles.\n",
      "2. **The Legend of Zelda: A Link to the Past** - These items are crucial for progression and are found in various dungeons throughout the game.\n",
      "3. **The Legend of Zelda: A Link Between Worlds** - Similar to \"A Link to the Past,\" both items are used for puzzle-solving and combat.\n",
      "\n",
      "These games feature both the Hookshot and Bow, making them integral tools for the player's adventure in each respective game.\n"
     ]
    }
   ],
   "source": [
    "\n",
    "import openai\n",
    "\n",
    "openai_client = openai.OpenAI()\n",
    "\n",
    "def generate_response(question,  results_table):\n",
    "\n",
    "    prompt = generation_prompt.format(results_table=results_table, question=question)\n",
    "    messages = [\n",
    "        {\"role\": \"system\", \"content\": generation_system_instruction},\n",
    "        {\"role\": \"user\", \"content\": prompt},\n",
    "    ]\n",
    "    completions = openai_client.chat.completions.create(\n",
    "        model=os.environ[\"OPENAI_MODEL\"],\n",
    "        temperature=0.0,\n",
    "        max_tokens=1000,\n",
    "        messages=messages\n",
    "    )\n",
    "\n",
    "    return completions.choices[0].message.content\n",
    "\n",
    "response_1 = generate_response(query_1, formatted_results_1)\n",
    "print(response_1)\n"
   ]
  },
  {
   "cell_type": "markdown",
   "metadata": {},
   "source": [
    "## Putting it all together\n",
    "\n",
    "See a full end-to-end demo of the graph-RAG system [here](https://localhost:8501)."
   ]
  },
  {
   "cell_type": "markdown",
   "metadata": {},
   "source": []
  }
 ],
 "metadata": {
  "kernelspec": {
   "display_name": ".venv",
   "language": "python",
   "name": "python3"
  },
  "language_info": {
   "codemirror_mode": {
    "name": "ipython",
    "version": 3
   },
   "file_extension": ".py",
   "mimetype": "text/x-python",
   "name": "python",
   "nbconvert_exporter": "python",
   "pygments_lexer": "ipython3",
   "version": "3.10.12"
  }
 },
 "nbformat": 4,
 "nbformat_minor": 2
}
