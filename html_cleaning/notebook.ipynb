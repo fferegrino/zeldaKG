{
 "cells": [
  {
   "cell_type": "code",
   "execution_count": 1,
   "metadata": {},
   "outputs": [],
   "source": [
    "from bs4 import BeautifulSoup\n",
    "from glob import glob\n",
    "import os\n",
    "import re\n",
    "\n",
    "# Where are all those htmls?\n",
    "html_route = r\"C:\\Corpora\\zelda-wikia2\\ZeldaWikia2\\zelda.wikia.com\\wiki\"\n",
    "# Where should I place the clean versions\n",
    "clean_html_route = r\"C:\\Corpora\\zelda-wikia2-clean\"\n",
    "\n",
    "omit_files = set()"
   ]
  },
  {
   "cell_type": "code",
   "execution_count": 2,
   "metadata": {
    "scrolled": false
   },
   "outputs": [],
   "source": [
    "from cleaner import remove_tags\n",
    "\n",
    "def pull_content(soup):\n",
    "    pageHeader = soup.find('header', {\"id\":\"PageHeader\"})\n",
    "    page_title = None\n",
    "    wikiaMainContent = soup.find('article', {\"id\":\"WikiaMainContent\"})\n",
    "    if pageHeader:\n",
    "        page_title = pageHeader.find('h1').text\n",
    "        wikiaMainContent['title'] = page_title\n",
    "    \n",
    "    return wikiaMainContent\n",
    "\n",
    "def clean_article(soup):\n",
    "    content_only = pull_content(soup) \n",
    "    resulting_soup = remove_tags(content_only, tags=['script', 'link', 'style','noscript'], parser=\"lxml\")\n",
    "    return resulting_soup"
   ]
  },
  {
   "cell_type": "code",
   "execution_count": 3,
   "metadata": {},
   "outputs": [],
   "source": [
    "# Take files out of the folders (they were generated because they contain backslashes in the filename)\n",
    "\n",
    "backslash =\"%2F\"\n",
    "from shutil import copyfile\n",
    "\n",
    "main_get_dirs = html_route + r\"\\*\\\\\"\n",
    "root_folder = html_route \n",
    "for dr in glob(main_get_dirs):\n",
    "    parts = dr.split(\"\\\\\")\n",
    "    for inner_file in glob(dr + \"*.html\"):\n",
    "        a = os.path.basename(inner_file)\n",
    "        final_name = parts[-2]+ backslash + a\n",
    "        dst = os.path.join(root_folder, final_name)\n",
    "        copyfile(inner_file, dst)"
   ]
  },
  {
   "cell_type": "code",
   "execution_count": 4,
   "metadata": {},
   "outputs": [
    {
     "data": {
      "text/plain": [
       "42171"
      ]
     },
     "execution_count": 4,
     "metadata": {},
     "output_type": "execute_result"
    }
   ],
   "source": [
    "last_hex = re.compile(\".+[0-9a-fA-F]{4}.html\")\n",
    "last_hex_alt = re.compile(\".+[0-9a-fA-F]{4}-[0-9]{1,2}.html\")\n",
    "\n",
    "main_dir = html_route + r\"\\*.html\"\n",
    "original_files = set(glob(main_dir))\n",
    "\n",
    "for file in glob(main_dir):\n",
    "    a = os.path.basename(file)\n",
    "    if last_hex.search(a): # Omit files that are revisions\n",
    "        omit_files.add(file)\n",
    "    if last_hex_alt.search(a): # Omit files that are revisions\n",
    "        omit_files.add(file)\n",
    "    elif a.startswith(\"User_\"):\n",
    "        omit_files.add(file)\n",
    "    elif a.startswith(\"Talk_\"):\n",
    "        omit_files.add(file)\n",
    "    elif a.startswith(\"Template_\"):\n",
    "        omit_files.add(file)\n",
    "    elif a.startswith(\"Category_talk_\"):\n",
    "        omit_files.add(file)\n",
    "    elif a.startswith(\"Walkthrough_\"):\n",
    "        omit_files.add(file)\n",
    "    elif a.startswith(\"Zeldapedia_talk_\"):\n",
    "        omit_files.add(file)\n",
    "    elif a.startswith(\"Help_\"):\n",
    "        omit_files.add(file)\n",
    "    elif a.startswith(\"Category_Zeldapedians_\"):\n",
    "        omit_files.add(file)\n",
    "    elif a.startswith(\"Special_\"):\n",
    "        omit_files.add(file)\n",
    "    elif a.startswith(\"File_\"):\n",
    "        omit_files.add(file)\n",
    "    elif a.startswith(\"Zeldapedia_\"):\n",
    "        omit_files.add(file)\n",
    "    elif a.startswith(\"Forum_\"):\n",
    "        omit_files.add(file)\n",
    "    elif a.startswith(\"Message_Wall_\"):\n",
    "        omit_files.add(file)\n",
    "len(omit_files)"
   ]
  },
  {
   "cell_type": "code",
   "execution_count": 5,
   "metadata": {},
   "outputs": [
    {
     "name": "stdout",
     "output_type": "stream",
     "text": [
      "42171\n",
      "50885\n"
     ]
    }
   ],
   "source": [
    "print(len(omit_files))\n",
    "print(len(original_files))\n",
    "valuable_files =  original_files - omit_files"
   ]
  },
  {
   "cell_type": "code",
   "execution_count": 6,
   "metadata": {},
   "outputs": [],
   "source": [
    "files_to_work_with = sorted(list(valuable_files))\n",
    "output_pattern = clean_html_route + r\"\\%s\"\n",
    "\n",
    "for file in files_to_work_with:\n",
    "    a = os.path.basename(file)\n",
    "    output_file = output_pattern % a\n",
    "    data = None\n",
    "    \n",
    "    with open(file, \"r\", encoding=\"utf8\") as r:\n",
    "        data = BeautifulSoup(r, \"lxml\")\n",
    "    resulting_soup = clean_article(data)\n",
    "        \n",
    "    with open(output_file, \"wb\") as w:\n",
    "        w.write(resulting_soup.prettify(\"utf8\"))"
   ]
  },
  {
   "cell_type": "code",
   "execution_count": null,
   "metadata": {},
   "outputs": [],
   "source": []
  }
 ],
 "metadata": {
  "kernelspec": {
   "display_name": "Python 3",
   "language": "python",
   "name": "python3"
  },
  "language_info": {
   "codemirror_mode": {
    "name": "ipython",
    "version": 3
   },
   "file_extension": ".py",
   "mimetype": "text/x-python",
   "name": "python",
   "nbconvert_exporter": "python",
   "pygments_lexer": "ipython3",
   "version": "3.6.5"
  }
 },
 "nbformat": 4,
 "nbformat_minor": 2
}
